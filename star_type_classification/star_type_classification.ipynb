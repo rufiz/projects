{
 "cells": [
  {
   "cell_type": "code",
   "execution_count": 141,
   "metadata": {},
   "outputs": [],
   "source": [
    "import pandas as pd \n",
    "import numpy as np \n",
    "\n",
    "import seaborn as sns \n",
    "import matplotlib.pyplot as plt \n",
    "import plotly.express as px\n",
    "\n",
    "from sklearn.model_selection import train_test_split\n",
    "from sklearn.preprocessing import StandardScaler\n",
    "from sklearn.metrics import confusion_matrix, classification_report\n",
    "\n",
    "from keras.models import Sequential\n",
    "from keras.layers import Dense, Dropout\n",
    "from keras.callbacks import EarlyStopping"
   ]
  },
  {
   "cell_type": "code",
   "execution_count": 29,
   "metadata": {},
   "outputs": [
    {
     "data": {
      "text/html": [
       "<div>\n",
       "<style scoped>\n",
       "    .dataframe tbody tr th:only-of-type {\n",
       "        vertical-align: middle;\n",
       "    }\n",
       "\n",
       "    .dataframe tbody tr th {\n",
       "        vertical-align: top;\n",
       "    }\n",
       "\n",
       "    .dataframe thead th {\n",
       "        text-align: right;\n",
       "    }\n",
       "</style>\n",
       "<table border=\"1\" class=\"dataframe\">\n",
       "  <thead>\n",
       "    <tr style=\"text-align: right;\">\n",
       "      <th></th>\n",
       "      <th>Temperature</th>\n",
       "      <th>L</th>\n",
       "      <th>R</th>\n",
       "      <th>A_M</th>\n",
       "      <th>Color</th>\n",
       "      <th>Spectral_Class</th>\n",
       "      <th>Type</th>\n",
       "    </tr>\n",
       "  </thead>\n",
       "  <tbody>\n",
       "    <tr>\n",
       "      <th>0</th>\n",
       "      <td>3068</td>\n",
       "      <td>0.002400</td>\n",
       "      <td>0.1700</td>\n",
       "      <td>16.12</td>\n",
       "      <td>Red</td>\n",
       "      <td>M</td>\n",
       "      <td>0</td>\n",
       "    </tr>\n",
       "    <tr>\n",
       "      <th>1</th>\n",
       "      <td>3042</td>\n",
       "      <td>0.000500</td>\n",
       "      <td>0.1542</td>\n",
       "      <td>16.60</td>\n",
       "      <td>Red</td>\n",
       "      <td>M</td>\n",
       "      <td>0</td>\n",
       "    </tr>\n",
       "    <tr>\n",
       "      <th>2</th>\n",
       "      <td>2600</td>\n",
       "      <td>0.000300</td>\n",
       "      <td>0.1020</td>\n",
       "      <td>18.70</td>\n",
       "      <td>Red</td>\n",
       "      <td>M</td>\n",
       "      <td>0</td>\n",
       "    </tr>\n",
       "    <tr>\n",
       "      <th>3</th>\n",
       "      <td>2800</td>\n",
       "      <td>0.000200</td>\n",
       "      <td>0.1600</td>\n",
       "      <td>16.65</td>\n",
       "      <td>Red</td>\n",
       "      <td>M</td>\n",
       "      <td>0</td>\n",
       "    </tr>\n",
       "    <tr>\n",
       "      <th>4</th>\n",
       "      <td>1939</td>\n",
       "      <td>0.000138</td>\n",
       "      <td>0.1030</td>\n",
       "      <td>20.06</td>\n",
       "      <td>Red</td>\n",
       "      <td>M</td>\n",
       "      <td>0</td>\n",
       "    </tr>\n",
       "  </tbody>\n",
       "</table>\n",
       "</div>"
      ],
      "text/plain": [
       "   Temperature         L       R    A_M Color Spectral_Class  Type\n",
       "0         3068  0.002400  0.1700  16.12   Red              M     0\n",
       "1         3042  0.000500  0.1542  16.60   Red              M     0\n",
       "2         2600  0.000300  0.1020  18.70   Red              M     0\n",
       "3         2800  0.000200  0.1600  16.65   Red              M     0\n",
       "4         1939  0.000138  0.1030  20.06   Red              M     0"
      ]
     },
     "execution_count": 29,
     "metadata": {},
     "output_type": "execute_result"
    }
   ],
   "source": [
    "df = pd.read_csv(\"Stars.csv\")\n",
    "df.head()"
   ]
  },
  {
   "cell_type": "markdown",
   "metadata": {},
   "source": [
    "<h5>Exploratory Data Analysis</h5>"
   ]
  },
  {
   "cell_type": "code",
   "execution_count": 30,
   "metadata": {},
   "outputs": [
    {
     "data": {
      "image/png": "[encoded data removed]",
      "text/plain": [
       "<Figure size 576x288 with 1 Axes>"
      ]
     },
     "metadata": {
      "needs_background": "light"
     },
     "output_type": "display_data"
    },
    {
     "data": {
      "image/png": "[encoded data removed]",
      "text/plain": [
       "<Figure size 576x288 with 1 Axes>"
      ]
     },
     "metadata": {
      "needs_background": "light"
     },
     "output_type": "display_data"
    }
   ],
   "source": [
    "plt.figure(figsize=(8,4))\n",
    "sns.countplot(x=df[\"Type\"])\n",
    "plt.title(\"Type of Stars\")\n",
    "\n",
    "plt.figure(figsize=(8,4))\n",
    "sns.countplot(x=df[\"Spectral_Class\"])\n",
    "plt.title(\"Asteroid Spectral Classes\");"
   ]
  },
  {
   "cell_type": "code",
   "execution_count": 31,
   "metadata": {},
   "outputs": [
    {
     "data": {
      "application/vnd.plotly.v1+json": {
       "config": {
        "plotlyServerURL": "https://plot.ly"
       },
       "data": [
        {
         "domain": {
          "x": [
           0,
           1
          ],
          "y": [
           0,
           1
          ]
         },
         "hovertemplate": "Color=%{label}<extra></extra>",
         "labels": [
          "Red",
          "Red",
          "Red",
          "Red",
          "Red",
          "Red",
          "Red",
          "Red",
          "Red",
          "Red",
          "Red",
          "Red",
          "Red",
          "Red",
          "Red",
          "Red",
          "Red",
          "Red",
          "Red",
          "Red",
          "Blue White",
          "White",
          "White",
          "White",
          "Blue White",
          "Yellowish White",
          "Blue white",
          "Yellowish White",
          "Yellowish White",
          "Pale yellow orange",
          "Blue",
          "Blue-white",
          "Blue-white",
          "Whitish",
          "yellow-white",
          "Whitish",
          "yellow-white",
          "yellow-white",
          "yellow-white",
          "yellow-white",
          "Red",
          "Red",
          "Red",
          "Red",
          "Red",
          "Red",
          "Red",
          "Red",
          "Red",
          "Blue",
          "Red",
          "Red",
          "Red",
          "Orange",
          "Red",
          "Red",
          "Red",
          "Red",
          "Red",
          "Red",
          "Red",
          "Red",
          "Red",
          "Red",
          "Red",
          "Red",
          "Red",
          "Red",
          "Red",
          "Red",
          "Red",
          "Red",
          "Red",
          "Red",
          "Red",
          "Red",
          "Red",
          "Red",
          "Red",
          "Red",
          "White-Yellow",
          "White",
          "white",
          "Blue White",
          "Blue White",
          "Blue White",
          "Blue White",
          "Blue White",
          "white",
          "Blue",
          "yellow-white",
          "yellowish",
          "yellowish",
          "Yellowish",
          "Blue-white",
          "Blue-white",
          "Orange-Red",
          "yellow-white",
          "Blue-white",
          "Blue",
          "Blue",
          "Blue",
          "Blue",
          "Blue",
          "Blue",
          "Blue",
          "Blue",
          "Blue",
          "Blue",
          "Blue",
          "Red",
          "Red",
          "Red",
          "Red",
          "Red",
          "Red",
          "Red",
          "Red",
          "Red",
          "Red",
          "Red",
          "Red",
          "Red",
          "Red",
          "Red",
          "Red",
          "Red",
          "Red",
          "Red",
          "Red",
          "Red",
          "Red",
          "Red",
          "Red",
          "Red",
          "Red",
          "Red",
          "Red",
          "Red",
          "Red",
          "Blue White",
          "Blue",
          "Blue",
          "Blue White",
          "Blue white",
          "Blue white",
          "Blue white",
          "white",
          "White",
          "Blue White",
          "Blue-white",
          "Blue-White",
          "Blue-white",
          "Blue-white",
          "Blue-white",
          "Blue-white",
          "Blue-white",
          "Blue-white",
          "Blue-white",
          "Blue",
          "Blue",
          "Blue",
          "Blue",
          "Blue",
          "Blue",
          "Blue",
          "Blue",
          "Blue",
          "Blue",
          "Blue",
          "Red",
          "Red",
          "Orange",
          "Blue",
          "Red",
          "Red",
          "Blue",
          "Blue-white",
          "Blue-white",
          "Blue-white",
          "Red",
          "Red",
          "Red",
          "Red",
          "Red",
          "Red",
          "Red",
          "Red",
          "Red",
          "Red",
          "Red",
          "Red",
          "Red",
          "Red",
          "Red",
          "Red",
          "Red",
          "Red",
          "Red",
          "Red",
          "Blue",
          "Blue",
          "Blue",
          "Blue",
          "Blue",
          "Blue",
          "Blue",
          "Blue",
          "Blue",
          "Blue",
          "Blue-white",
          "Blue-white",
          "Blue-white",
          "Blue-white",
          "Blue",
          "Blue",
          "Blue-white",
          "Blue-white",
          "Blue-white",
          "yellow-white",
          "Blue",
          "Blue",
          "Blue",
          "Blue",
          "Blue",
          "Blue",
          "Blue",
          "Blue",
          "Blue",
          "Blue",
          "Blue-white",
          "Blue",
          "Blue",
          "Blue-white",
          "Blue-white",
          "Blue",
          "Blue",
          "White",
          "White",
          "Blue"
         ],
         "legendgroup": "",
         "name": "",
         "showlegend": true,
         "type": "pie"
        }
       ],
       "layout": {
        "legend": {
         "tracegroupgap": 0
        },
        "template": {
         "data": {
          "bar": [
           {
            "error_x": {
             "color": "#2a3f5f"
            },
            "error_y": {
             "color": "#2a3f5f"
            },
            "marker": {
             "line": {
              "color": "#E5ECF6",
              "width": 0.5
             }
            },
            "type": "bar"
           }
          ],
          "barpolar": [
           {
            "marker": {
             "line": {
              "color": "#E5ECF6",
              "width": 0.5
             }
            },
            "type": "barpolar"
           }
          ],
          "carpet": [
           {
            "aaxis": {
             "endlinecolor": "#2a3f5f",
             "gridcolor": "white",
             "linecolor": "white",
             "minorgridcolor": "white",
             "startlinecolor": "#2a3f5f"
            },
            "baxis": {
             "endlinecolor": "#2a3f5f",
             "gridcolor": "white",
             "linecolor": "white",
             "minorgridcolor": "white",
             "startlinecolor": "#2a3f5f"
            },
            "type": "carpet"
           }
          ],
          "choropleth": [
           {
            "colorbar": {
             "outlinewidth": 0,
             "ticks": ""
            },
            "type": "choropleth"
           }
          ],
          "contour": [
           {
            "colorbar": {
             "outlinewidth": 0,
             "ticks": ""
            },
            "colorscale": [
             [
              0,
              "#0d0887"
             ],
             [
              0.1111111111111111,
              "#46039f"
             ],
             [
              0.2222222222222222,
              "#7201a8"
             ],
             [
              0.3333333333333333,
              "#9c179e"
             ],
             [
              0.4444444444444444,
              "#bd3786"
             ],
             [
              0.5555555555555556,
              "#d8576b"
             ],
             [
              0.6666666666666666,
              "#ed7953"
             ],
             [
              0.7777777777777778,
              "#fb9f3a"
             ],
             [
              0.8888888888888888,
              "#fdca26"
             ],
             [
              1,
              "#f0f921"
             ]
            ],
            "type": "contour"
           }
          ],
          "contourcarpet": [
           {
            "colorbar": {
             "outlinewidth": 0,
             "ticks": ""
            },
            "type": "contourcarpet"
           }
          ],
          "heatmap": [
           {
            "colorbar": {
             "outlinewidth": 0,
             "ticks": ""
            },
            "colorscale": [
             [
              0,
              "#0d0887"
             ],
             [
              0.1111111111111111,
              "#46039f"
             ],
             [
              0.2222222222222222,
              "#7201a8"
             ],
             [
              0.3333333333333333,
              "#9c179e"
             ],
             [
              0.4444444444444444,
              "#bd3786"
             ],
             [
              0.5555555555555556,
              "#d8576b"
             ],
             [
              0.6666666666666666,
              "#ed7953"
             ],
             [
              0.7777777777777778,
              "#fb9f3a"
             ],
             [
              0.8888888888888888,
              "#fdca26"
             ],
             [
              1,
              "#f0f921"
             ]
            ],
            "type": "heatmap"
           }
          ],
          "heatmapgl": [
           {
            "colorbar": {
             "outlinewidth": 0,
             "ticks": ""
            },
            "colorscale": [
             [
              0,
              "#0d0887"
             ],
             [
              0.1111111111111111,
              "#46039f"
             ],
             [
              0.2222222222222222,
              "#7201a8"
             ],
             [
              0.3333333333333333,
              "#9c179e"
             ],
             [
              0.4444444444444444,
              "#bd3786"
             ],
             [
              0.5555555555555556,
              "#d8576b"
             ],
             [
              0.6666666666666666,
              "#ed7953"
             ],
             [
              0.7777777777777778,
              "#fb9f3a"
             ],
             [
              0.8888888888888888,
              "#fdca26"
             ],
             [
              1,
              "#f0f921"
             ]
            ],
            "type": "heatmapgl"
           }
          ],
          "histogram": [
           {
            "marker": {
             "colorbar": {
              "outlinewidth": 0,
              "ticks": ""
             }
            },
            "type": "histogram"
           }
          ],
          "histogram2d": [
           {
            "colorbar": {
             "outlinewidth": 0,
             "ticks": ""
            },
            "colorscale": [
             [
              0,
              "#0d0887"
             ],
             [
              0.1111111111111111,
              "#46039f"
             ],
             [
              0.2222222222222222,
              "#7201a8"
             ],
             [
              0.3333333333333333,
              "#9c179e"
             ],
             [
              0.4444444444444444,
              "#bd3786"
             ],
             [
              0.5555555555555556,
              "#d8576b"
             ],
             [
              0.6666666666666666,
              "#ed7953"
             ],
             [
              0.7777777777777778,
              "#fb9f3a"
             ],
             [
              0.8888888888888888,
              "#fdca26"
             ],
             [
              1,
              "#f0f921"
             ]
            ],
            "type": "histogram2d"
           }
          ],
          "histogram2dcontour": [
           {
            "colorbar": {
             "outlinewidth": 0,
             "ticks": ""
            },
            "colorscale": [
             [
              0,
              "#0d0887"
             ],
             [
              0.1111111111111111,
              "#46039f"
             ],
             [
              0.2222222222222222,
              "#7201a8"
             ],
             [
              0.3333333333333333,
              "#9c179e"
             ],
             [
              0.4444444444444444,
              "#bd3786"
             ],
             [
              0.5555555555555556,
              "#d8576b"
             ],
             [
              0.6666666666666666,
              "#ed7953"
             ],
             [
              0.7777777777777778,
              "#fb9f3a"
             ],
             [
              0.8888888888888888,
              "#fdca26"
             ],
             [
              1,
              "#f0f921"
             ]
            ],
            "type": "histogram2dcontour"
           }
          ],
          "mesh3d": [
           {
            "colorbar": {
             "outlinewidth": 0,
             "ticks": ""
            },
            "type": "mesh3d"
           }
          ],
          "parcoords": [
           {
            "line": {
             "colorbar": {
              "outlinewidth": 0,
              "ticks": ""
             }
            },
            "type": "parcoords"
           }
          ],
          "pie": [
           {
            "automargin": true,
            "type": "pie"
           }
          ],
          "scatter": [
           {
            "marker": {
             "colorbar": {
              "outlinewidth": 0,
              "ticks": ""
             }
            },
            "type": "scatter"
           }
          ],
          "scatter3d": [
           {
            "line": {
             "colorbar": {
              "outlinewidth": 0,
              "ticks": ""
             }
            },
            "marker": {
             "colorbar": {
              "outlinewidth": 0,
              "ticks": ""
             }
            },
            "type": "scatter3d"
           }
          ],
          "scattercarpet": [
           {
            "marker": {
             "colorbar": {
              "outlinewidth": 0,
              "ticks": ""
             }
            },
            "type": "scattercarpet"
           }
          ],
          "scattergeo": [
           {
            "marker": {
             "colorbar": {
              "outlinewidth": 0,
              "ticks": ""
             }
            },
            "type": "scattergeo"
           }
          ],
          "scattergl": [
           {
            "marker": {
             "colorbar": {
              "outlinewidth": 0,
              "ticks": ""
             }
            },
            "type": "scattergl"
           }
          ],
          "scattermapbox": [
           {
            "marker": {
             "colorbar": {
              "outlinewidth": 0,
              "ticks": ""
             }
            },
            "type": "scattermapbox"
           }
          ],
          "scatterpolar": [
           {
            "marker": {
             "colorbar": {
              "outlinewidth": 0,
              "ticks": ""
             }
            },
            "type": "scatterpolar"
           }
          ],
          "scatterpolargl": [
           {
            "marker": {
             "colorbar": {
              "outlinewidth": 0,
              "ticks": ""
             }
            },
            "type": "scatterpolargl"
           }
          ],
          "scatterternary": [
           {
            "marker": {
             "colorbar": {
              "outlinewidth": 0,
              "ticks": ""
             }
            },
            "type": "scatterternary"
           }
          ],
          "surface": [
           {
            "colorbar": {
             "outlinewidth": 0,
             "ticks": ""
            },
            "colorscale": [
             [
              0,
              "#0d0887"
             ],
             [
              0.1111111111111111,
              "#46039f"
             ],
             [
              0.2222222222222222,
              "#7201a8"
             ],
             [
              0.3333333333333333,
              "#9c179e"
             ],
             [
              0.4444444444444444,
              "#bd3786"
             ],
             [
              0.5555555555555556,
              "#d8576b"
             ],
             [
              0.6666666666666666,
              "#ed7953"
             ],
             [
              0.7777777777777778,
              "#fb9f3a"
             ],
             [
              0.8888888888888888,
              "#fdca26"
             ],
             [
              1,
              "#f0f921"
             ]
            ],
            "type": "surface"
           }
          ],
          "table": [
           {
            "cells": {
             "fill": {
              "color": "#EBF0F8"
             },
             "line": {
              "color": "white"
             }
            },
            "header": {
             "fill": {
              "color": "#C8D4E3"
             },
             "line": {
              "color": "white"
             }
            },
            "type": "table"
           }
          ]
         },
         "layout": {
          "annotationdefaults": {
           "arrowcolor": "#2a3f5f",
           "arrowhead": 0,
           "arrowwidth": 1
          },
          "autotypenumbers": "strict",
          "coloraxis": {
           "colorbar": {
            "outlinewidth": 0,
            "ticks": ""
           }
          },
          "colorscale": {
           "diverging": [
            [
             0,
             "#8e0152"
            ],
            [
             0.1,
             "#c51b7d"
            ],
            [
             0.2,
             "#de77ae"
            ],
            [
             0.3,
             "#f1b6da"
            ],
            [
             0.4,
             "#fde0ef"
            ],
            [
             0.5,
             "#f7f7f7"
            ],
            [
             0.6,
             "#e6f5d0"
            ],
            [
             0.7,
             "#b8e186"
            ],
            [
             0.8,
             "#7fbc41"
            ],
            [
             0.9,
             "#4d9221"
            ],
            [
             1,
             "#276419"
            ]
           ],
           "sequential": [
            [
             0,
             "#0d0887"
            ],
            [
             0.1111111111111111,
             "#46039f"
            ],
            [
             0.2222222222222222,
             "#7201a8"
            ],
            [
             0.3333333333333333,
             "#9c179e"
            ],
            [
             0.4444444444444444,
             "#bd3786"
            ],
            [
             0.5555555555555556,
             "#d8576b"
            ],
            [
             0.6666666666666666,
             "#ed7953"
            ],
            [
             0.7777777777777778,
             "#fb9f3a"
            ],
            [
             0.8888888888888888,
             "#fdca26"
            ],
            [
             1,
             "#f0f921"
            ]
           ],
           "sequentialminus": [
            [
             0,
             "#0d0887"
            ],
            [
             0.1111111111111111,
             "#46039f"
            ],
            [
             0.2222222222222222,
             "#7201a8"
            ],
            [
             0.3333333333333333,
             "#9c179e"
            ],
            [
             0.4444444444444444,
             "#bd3786"
            ],
            [
             0.5555555555555556,
             "#d8576b"
            ],
            [
             0.6666666666666666,
             "#ed7953"
            ],
            [
             0.7777777777777778,
             "#fb9f3a"
            ],
            [
             0.8888888888888888,
             "#fdca26"
            ],
            [
             1,
             "#f0f921"
            ]
           ]
          },
          "colorway": [
           "#636efa",
           "#EF553B",
           "#00cc96",
           "#ab63fa",
           "#FFA15A",
           "#19d3f3",
           "#FF6692",
           "#B6E880",
           "#FF97FF",
           "#FECB52"
          ],
          "font": {
           "color": "#2a3f5f"
          },
          "geo": {
           "bgcolor": "white",
           "lakecolor": "white",
           "landcolor": "#E5ECF6",
           "showlakes": true,
           "showland": true,
           "subunitcolor": "white"
          },
          "hoverlabel": {
           "align": "left"
          },
          "hovermode": "closest",
          "mapbox": {
           "style": "light"
          },
          "paper_bgcolor": "white",
          "plot_bgcolor": "#E5ECF6",
          "polar": {
           "angularaxis": {
            "gridcolor": "white",
            "linecolor": "white",
            "ticks": ""
           },
           "bgcolor": "#E5ECF6",
           "radialaxis": {
            "gridcolor": "white",
            "linecolor": "white",
            "ticks": ""
           }
          },
          "scene": {
           "xaxis": {
            "backgroundcolor": "#E5ECF6",
            "gridcolor": "white",
            "gridwidth": 2,
            "linecolor": "white",
            "showbackground": true,
            "ticks": "",
            "zerolinecolor": "white"
           },
           "yaxis": {
            "backgroundcolor": "#E5ECF6",
            "gridcolor": "white",
            "gridwidth": 2,
            "linecolor": "white",
            "showbackground": true,
            "ticks": "",
            "zerolinecolor": "white"
           },
           "zaxis": {
            "backgroundcolor": "#E5ECF6",
            "gridcolor": "white",
            "gridwidth": 2,
            "linecolor": "white",
            "showbackground": true,
            "ticks": "",
            "zerolinecolor": "white"
           }
          },
          "shapedefaults": {
           "line": {
            "color": "#2a3f5f"
           }
          },
          "ternary": {
           "aaxis": {
            "gridcolor": "white",
            "linecolor": "white",
            "ticks": ""
           },
           "baxis": {
            "gridcolor": "white",
            "linecolor": "white",
            "ticks": ""
           },
           "bgcolor": "#E5ECF6",
           "caxis": {
            "gridcolor": "white",
            "linecolor": "white",
            "ticks": ""
           }
          },
          "title": {
           "x": 0.05
          },
          "xaxis": {
           "automargin": true,
           "gridcolor": "white",
           "linecolor": "white",
           "ticks": "",
           "title": {
            "standoff": 15
           },
           "zerolinecolor": "white",
           "zerolinewidth": 2
          },
          "yaxis": {
           "automargin": true,
           "gridcolor": "white",
           "linecolor": "white",
           "ticks": "",
           "title": {
            "standoff": 15
           },
           "zerolinecolor": "white",
           "zerolinewidth": 2
          }
         }
        },
        "title": {
         "text": "Percentage of Star Colors in the Dataset"
        }
       }
      },
      "text/html": [
       "<div>                            <div id=\"555355fb-8104-475f-a3ee-95b60dd4131f\" class=\"plotly-graph-div\" style=\"height:525px; width:100%;\"></div>            <script type=\"text/javascript\">                require([\"plotly\"], function(Plotly) {                    window.PLOTLYENV=window.PLOTLYENV || {};                                    if (document.getElementById(\"555355fb-8104-475f-a3ee-95b60dd4131f\")) {                    Plotly.newPlot(                        \"555355fb-8104-475f-a3ee-95b60dd4131f\",                        [{\"domain\": {\"x\": [0.0, 1.0], \"y\": [0.0, 1.0]}, \"hovertemplate\": \"Color=%{label}<extra></extra>\", \"labels\": [\"Red\", \"Red\", \"Red\", \"Red\", \"Red\", \"Red\", \"Red\", \"Red\", \"Red\", \"Red\", \"Red\", \"Red\", \"Red\", \"Red\", \"Red\", \"Red\", \"Red\", \"Red\", \"Red\", \"Red\", \"Blue White\", \"White\", \"White\", \"White\", \"Blue White\", \"Yellowish White\", \"Blue white\", \"Yellowish White\", \"Yellowish White\", \"Pale yellow orange\", \"Blue\", \"Blue-white\", \"Blue-white\", \"Whitish\", \"yellow-white\", \"Whitish\", \"yellow-white\", \"yellow-white\", \"yellow-white\", \"yellow-white\", \"Red\", \"Red\", \"Red\", \"Red\", \"Red\", \"Red\", \"Red\", \"Red\", \"Red\", \"Blue\", \"Red\", \"Red\", \"Red\", \"Orange\", \"Red\", \"Red\", \"Red\", \"Red\", \"Red\", \"Red\", \"Red\", \"Red\", \"Red\", \"Red\", \"Red\", \"Red\", \"Red\", \"Red\", \"Red\", \"Red\", \"Red\", \"Red\", \"Red\", \"Red\", \"Red\", \"Red\", \"Red\", \"Red\", \"Red\", \"Red\", \"White-Yellow\", \"White\", \"white\", \"Blue White\", \"Blue White\", \"Blue White\", \"Blue White\", \"Blue White\", \"white\", \"Blue\", \"yellow-white\", \"yellowish\", \"yellowish\", \"Yellowish\", \"Blue-white\", \"Blue-white\", \"Orange-Red\", \"yellow-white\", \"Blue-white\", \"Blue\", \"Blue\", \"Blue\", \"Blue\", \"Blue\", \"Blue\", \"Blue\", \"Blue\", \"Blue\", \"Blue\", \"Blue\", \"Red\", \"Red\", \"Red\", \"Red\", \"Red\", \"Red\", \"Red\", \"Red\", \"Red\", \"Red\", \"Red\", \"Red\", \"Red\", \"Red\", \"Red\", \"Red\", \"Red\", \"Red\", \"Red\", \"Red\", \"Red\", \"Red\", \"Red\", \"Red\", \"Red\", \"Red\", \"Red\", \"Red\", \"Red\", \"Red\", \"Blue White\", \"Blue\", \"Blue\", \"Blue White\", \"Blue white\", \"Blue white\", \"Blue white\", \"white\", \"White\", \"Blue White\", \"Blue-white\", \"Blue-White\", \"Blue-white\", \"Blue-white\", \"Blue-white\", \"Blue-white\", \"Blue-white\", \"Blue-white\", \"Blue-white\", \"Blue\", \"Blue\", \"Blue\", \"Blue\", \"Blue\", \"Blue\", \"Blue\", \"Blue\", \"Blue\", \"Blue\", \"Blue\", \"Red\", \"Red\", \"Orange\", \"Blue\", \"Red\", \"Red\", \"Blue\", \"Blue-white\", \"Blue-white\", \"Blue-white\", \"Red\", \"Red\", \"Red\", \"Red\", \"Red\", \"Red\", \"Red\", \"Red\", \"Red\", \"Red\", \"Red\", \"Red\", \"Red\", \"Red\", \"Red\", \"Red\", \"Red\", \"Red\", \"Red\", \"Red\", \"Blue\", \"Blue\", \"Blue\", \"Blue\", \"Blue\", \"Blue\", \"Blue\", \"Blue\", \"Blue\", \"Blue\", \"Blue-white\", \"Blue-white\", \"Blue-white\", \"Blue-white\", \"Blue\", \"Blue\", \"Blue-white\", \"Blue-white\", \"Blue-white\", \"yellow-white\", \"Blue\", \"Blue\", \"Blue\", \"Blue\", \"Blue\", \"Blue\", \"Blue\", \"Blue\", \"Blue\", \"Blue\", \"Blue-white\", \"Blue\", \"Blue\", \"Blue-white\", \"Blue-white\", \"Blue\", \"Blue\", \"White\", \"White\", \"Blue\"], \"legendgroup\": \"\", \"name\": \"\", \"showlegend\": true, \"type\": \"pie\"}],                        {\"legend\": {\"tracegroupgap\": 0}, \"template\": {\"data\": {\"bar\": [{\"error_x\": {\"color\": \"#2a3f5f\"}, \"error_y\": {\"color\": \"#2a3f5f\"}, \"marker\": {\"line\": {\"color\": \"#E5ECF6\", \"width\": 0.5}}, \"type\": \"bar\"}], \"barpolar\": [{\"marker\": {\"line\": {\"color\": \"#E5ECF6\", \"width\": 0.5}}, \"type\": \"barpolar\"}], \"carpet\": [{\"aaxis\": {\"endlinecolor\": \"#2a3f5f\", \"gridcolor\": \"white\", \"linecolor\": \"white\", \"minorgridcolor\": \"white\", \"startlinecolor\": \"#2a3f5f\"}, \"baxis\": {\"endlinecolor\": \"#2a3f5f\", \"gridcolor\": \"white\", \"linecolor\": \"white\", \"minorgridcolor\": \"white\", \"startlinecolor\": \"#2a3f5f\"}, \"type\": \"carpet\"}], \"choropleth\": [{\"colorbar\": {\"outlinewidth\": 0, \"ticks\": \"\"}, \"type\": \"choropleth\"}], \"contour\": [{\"colorbar\": {\"outlinewidth\": 0, \"ticks\": \"\"}, \"colorscale\": [[0.0, \"#0d0887\"], [0.1111111111111111, \"#46039f\"], [0.2222222222222222, \"#7201a8\"], [0.3333333333333333, \"#9c179e\"], [0.4444444444444444, \"#bd3786\"], [0.5555555555555556, \"#d8576b\"], [0.6666666666666666, \"#ed7953\"], [0.7777777777777778, \"#fb9f3a\"], [0.8888888888888888, \"#fdca26\"], [1.0, \"#f0f921\"]], \"type\": \"contour\"}], \"contourcarpet\": [{\"colorbar\": {\"outlinewidth\": 0, \"ticks\": \"\"}, \"type\": \"contourcarpet\"}], \"heatmap\": [{\"colorbar\": {\"outlinewidth\": 0, \"ticks\": \"\"}, \"colorscale\": [[0.0, \"#0d0887\"], [0.1111111111111111, \"#46039f\"], [0.2222222222222222, \"#7201a8\"], [0.3333333333333333, \"#9c179e\"], [0.4444444444444444, \"#bd3786\"], [0.5555555555555556, \"#d8576b\"], [0.6666666666666666, \"#ed7953\"], [0.7777777777777778, \"#fb9f3a\"], [0.8888888888888888, \"#fdca26\"], [1.0, \"#f0f921\"]], \"type\": \"heatmap\"}], \"heatmapgl\": [{\"colorbar\": {\"outlinewidth\": 0, \"ticks\": \"\"}, \"colorscale\": [[0.0, \"#0d0887\"], [0.1111111111111111, \"#46039f\"], [0.2222222222222222, \"#7201a8\"], [0.3333333333333333, \"#9c179e\"], [0.4444444444444444, \"#bd3786\"], [0.5555555555555556, \"#d8576b\"], [0.6666666666666666, \"#ed7953\"], [0.7777777777777778, \"#fb9f3a\"], [0.8888888888888888, \"#fdca26\"], [1.0, \"#f0f921\"]], \"type\": \"heatmapgl\"}], \"histogram\": [{\"marker\": {\"colorbar\": {\"outlinewidth\": 0, \"ticks\": \"\"}}, \"type\": \"histogram\"}], \"histogram2d\": [{\"colorbar\": {\"outlinewidth\": 0, \"ticks\": \"\"}, \"colorscale\": [[0.0, \"#0d0887\"], [0.1111111111111111, \"#46039f\"], [0.2222222222222222, \"#7201a8\"], [0.3333333333333333, \"#9c179e\"], [0.4444444444444444, \"#bd3786\"], [0.5555555555555556, \"#d8576b\"], [0.6666666666666666, \"#ed7953\"], [0.7777777777777778, \"#fb9f3a\"], [0.8888888888888888, \"#fdca26\"], [1.0, \"#f0f921\"]], \"type\": \"histogram2d\"}], \"histogram2dcontour\": [{\"colorbar\": {\"outlinewidth\": 0, \"ticks\": \"\"}, \"colorscale\": [[0.0, \"#0d0887\"], [0.1111111111111111, \"#46039f\"], [0.2222222222222222, \"#7201a8\"], [0.3333333333333333, \"#9c179e\"], [0.4444444444444444, \"#bd3786\"], [0.5555555555555556, \"#d8576b\"], [0.6666666666666666, \"#ed7953\"], [0.7777777777777778, \"#fb9f3a\"], [0.8888888888888888, \"#fdca26\"], [1.0, \"#f0f921\"]], \"type\": \"histogram2dcontour\"}], \"mesh3d\": [{\"colorbar\": {\"outlinewidth\": 0, \"ticks\": \"\"}, \"type\": \"mesh3d\"}], \"parcoords\": [{\"line\": {\"colorbar\": {\"outlinewidth\": 0, \"ticks\": \"\"}}, \"type\": \"parcoords\"}], \"pie\": [{\"automargin\": true, \"type\": \"pie\"}], \"scatter\": [{\"marker\": {\"colorbar\": {\"outlinewidth\": 0, \"ticks\": \"\"}}, \"type\": \"scatter\"}], \"scatter3d\": [{\"line\": {\"colorbar\": {\"outlinewidth\": 0, \"ticks\": \"\"}}, \"marker\": {\"colorbar\": {\"outlinewidth\": 0, \"ticks\": \"\"}}, \"type\": \"scatter3d\"}], \"scattercarpet\": [{\"marker\": {\"colorbar\": {\"outlinewidth\": 0, \"ticks\": \"\"}}, \"type\": \"scattercarpet\"}], \"scattergeo\": [{\"marker\": {\"colorbar\": {\"outlinewidth\": 0, \"ticks\": \"\"}}, \"type\": \"scattergeo\"}], \"scattergl\": [{\"marker\": {\"colorbar\": {\"outlinewidth\": 0, \"ticks\": \"\"}}, \"type\": \"scattergl\"}], \"scattermapbox\": [{\"marker\": {\"colorbar\": {\"outlinewidth\": 0, \"ticks\": \"\"}}, \"type\": \"scattermapbox\"}], \"scatterpolar\": [{\"marker\": {\"colorbar\": {\"outlinewidth\": 0, \"ticks\": \"\"}}, \"type\": \"scatterpolar\"}], \"scatterpolargl\": [{\"marker\": {\"colorbar\": {\"outlinewidth\": 0, \"ticks\": \"\"}}, \"type\": \"scatterpolargl\"}], \"scatterternary\": [{\"marker\": {\"colorbar\": {\"outlinewidth\": 0, \"ticks\": \"\"}}, \"type\": \"scatterternary\"}], \"surface\": [{\"colorbar\": {\"outlinewidth\": 0, \"ticks\": \"\"}, \"colorscale\": [[0.0, \"#0d0887\"], [0.1111111111111111, \"#46039f\"], [0.2222222222222222, \"#7201a8\"], [0.3333333333333333, \"#9c179e\"], [0.4444444444444444, \"#bd3786\"], [0.5555555555555556, \"#d8576b\"], [0.6666666666666666, \"#ed7953\"], [0.7777777777777778, \"#fb9f3a\"], [0.8888888888888888, \"#fdca26\"], [1.0, \"#f0f921\"]], \"type\": \"surface\"}], \"table\": [{\"cells\": {\"fill\": {\"color\": \"#EBF0F8\"}, \"line\": {\"color\": \"white\"}}, \"header\": {\"fill\": {\"color\": \"#C8D4E3\"}, \"line\": {\"color\": \"white\"}}, \"type\": \"table\"}]}, \"layout\": {\"annotationdefaults\": {\"arrowcolor\": \"#2a3f5f\", \"arrowhead\": 0, \"arrowwidth\": 1}, \"autotypenumbers\": \"strict\", \"coloraxis\": {\"colorbar\": {\"outlinewidth\": 0, \"ticks\": \"\"}}, \"colorscale\": {\"diverging\": [[0, \"#8e0152\"], [0.1, \"#c51b7d\"], [0.2, \"#de77ae\"], [0.3, \"#f1b6da\"], [0.4, \"#fde0ef\"], [0.5, \"#f7f7f7\"], [0.6, \"#e6f5d0\"], [0.7, \"#b8e186\"], [0.8, \"#7fbc41\"], [0.9, \"#4d9221\"], [1, \"#276419\"]], \"sequential\": [[0.0, \"#0d0887\"], [0.1111111111111111, \"#46039f\"], [0.2222222222222222, \"#7201a8\"], [0.3333333333333333, \"#9c179e\"], [0.4444444444444444, \"#bd3786\"], [0.5555555555555556, \"#d8576b\"], [0.6666666666666666, \"#ed7953\"], [0.7777777777777778, \"#fb9f3a\"], [0.8888888888888888, \"#fdca26\"], [1.0, \"#f0f921\"]], \"sequentialminus\": [[0.0, \"#0d0887\"], [0.1111111111111111, \"#46039f\"], [0.2222222222222222, \"#7201a8\"], [0.3333333333333333, \"#9c179e\"], [0.4444444444444444, \"#bd3786\"], [0.5555555555555556, \"#d8576b\"], [0.6666666666666666, \"#ed7953\"], [0.7777777777777778, \"#fb9f3a\"], [0.8888888888888888, \"#fdca26\"], [1.0, \"#f0f921\"]]}, \"colorway\": [\"#636efa\", \"#EF553B\", \"#00cc96\", \"#ab63fa\", \"#FFA15A\", \"#19d3f3\", \"#FF6692\", \"#B6E880\", \"#FF97FF\", \"#FECB52\"], \"font\": {\"color\": \"#2a3f5f\"}, \"geo\": {\"bgcolor\": \"white\", \"lakecolor\": \"white\", \"landcolor\": \"#E5ECF6\", \"showlakes\": true, \"showland\": true, \"subunitcolor\": \"white\"}, \"hoverlabel\": {\"align\": \"left\"}, \"hovermode\": \"closest\", \"mapbox\": {\"style\": \"light\"}, \"paper_bgcolor\": \"white\", \"plot_bgcolor\": \"#E5ECF6\", \"polar\": {\"angularaxis\": {\"gridcolor\": \"white\", \"linecolor\": \"white\", \"ticks\": \"\"}, \"bgcolor\": \"#E5ECF6\", \"radialaxis\": {\"gridcolor\": \"white\", \"linecolor\": \"white\", \"ticks\": \"\"}}, \"scene\": {\"xaxis\": {\"backgroundcolor\": \"#E5ECF6\", \"gridcolor\": \"white\", \"gridwidth\": 2, \"linecolor\": \"white\", \"showbackground\": true, \"ticks\": \"\", \"zerolinecolor\": \"white\"}, \"yaxis\": {\"backgroundcolor\": \"#E5ECF6\", \"gridcolor\": \"white\", \"gridwidth\": 2, \"linecolor\": \"white\", \"showbackground\": true, \"ticks\": \"\", \"zerolinecolor\": \"white\"}, \"zaxis\": {\"backgroundcolor\": \"#E5ECF6\", \"gridcolor\": \"white\", \"gridwidth\": 2, \"linecolor\": \"white\", \"showbackground\": true, \"ticks\": \"\", \"zerolinecolor\": \"white\"}}, \"shapedefaults\": {\"line\": {\"color\": \"#2a3f5f\"}}, \"ternary\": {\"aaxis\": {\"gridcolor\": \"white\", \"linecolor\": \"white\", \"ticks\": \"\"}, \"baxis\": {\"gridcolor\": \"white\", \"linecolor\": \"white\", \"ticks\": \"\"}, \"bgcolor\": \"#E5ECF6\", \"caxis\": {\"gridcolor\": \"white\", \"linecolor\": \"white\", \"ticks\": \"\"}}, \"title\": {\"x\": 0.05}, \"xaxis\": {\"automargin\": true, \"gridcolor\": \"white\", \"linecolor\": \"white\", \"ticks\": \"\", \"title\": {\"standoff\": 15}, \"zerolinecolor\": \"white\", \"zerolinewidth\": 2}, \"yaxis\": {\"automargin\": true, \"gridcolor\": \"white\", \"linecolor\": \"white\", \"ticks\": \"\", \"title\": {\"standoff\": 15}, \"zerolinecolor\": \"white\", \"zerolinewidth\": 2}}}, \"title\": {\"text\": \"Percentage of Star Colors in the Dataset\"}},                        {\"responsive\": true}                    ).then(function(){\n",
       "                            \n",
       "var gd = document.getElementById('555355fb-8104-475f-a3ee-95b60dd4131f');\n",
       "var x = new MutationObserver(function (mutations, observer) {{\n",
       "        var display = window.getComputedStyle(gd).display;\n",
       "        if (!display || display === 'none') {{\n",
       "            console.log([gd, 'removed!']);\n",
       "            Plotly.purge(gd);\n",
       "            observer.disconnect();\n",
       "        }}\n",
       "}});\n",
       "\n",
       "// Listen for the removal of the full notebook cells\n",
       "var notebookContainer = gd.closest('#notebook-container');\n",
       "if (notebookContainer) {{\n",
       "    x.observe(notebookContainer, {childList: true});\n",
       "}}\n",
       "\n",
       "// Listen for the clearing of the current output cell\n",
       "var outputEl = gd.closest('.output');\n",
       "if (outputEl) {{\n",
       "    x.observe(outputEl, {childList: true});\n",
       "}}\n",
       "\n",
       "                        })                };                });            </script>        </div>"
      ]
     },
     "metadata": {},
     "output_type": "display_data"
    }
   ],
   "source": [
    "px.pie(data_frame=df, names=\"Color\", title=\"Percentage of Star Colors in the Dataset\")"
   ]
  },
  {
   "cell_type": "code",
   "execution_count": 32,
   "metadata": {},
   "outputs": [
    {
     "name": "stdout",
     "output_type": "stream",
     "text": [
      "<class 'pandas.core.frame.DataFrame'>\n",
      "RangeIndex: 240 entries, 0 to 239\n",
      "Data columns (total 7 columns):\n",
      " #   Column          Non-Null Count  Dtype  \n",
      "---  ------          --------------  -----  \n",
      " 0   Temperature     240 non-null    int64  \n",
      " 1   L               240 non-null    float64\n",
      " 2   R               240 non-null    float64\n",
      " 3   A_M             240 non-null    float64\n",
      " 4   Color           240 non-null    object \n",
      " 5   Spectral_Class  240 non-null    object \n",
      " 6   Type            240 non-null    int64  \n",
      "dtypes: float64(3), int64(2), object(2)\n",
      "memory usage: 13.2+ KB\n",
      "None\n",
      "\n",
      "\n",
      "Number of NaN values:\n",
      "Temperature       0\n",
      "L                 0\n",
      "R                 0\n",
      "A_M               0\n",
      "Color             0\n",
      "Spectral_Class    0\n",
      "Type              0\n",
      "dtype: int64\n",
      "\n",
      "\n",
      "Number of Duplicated Rows:\n",
      "0\n"
     ]
    }
   ],
   "source": [
    "print(df.info())\n",
    "print(\"\\n\")\n",
    "print(f\"Number of NaN values:\\n{df.isna().sum()}\")\n",
    "print(\"\\n\")\n",
    "print(f\"Number of Duplicated Rows:\\n{df.duplicated().sum()}\")"
   ]
  },
  {
   "cell_type": "markdown",
   "metadata": {},
   "source": [
    "<h6>Preprocess the Data</h6>"
   ]
  },
  {
   "cell_type": "code",
   "execution_count": 44,
   "metadata": {},
   "outputs": [],
   "source": [
    "df[\"Color\"] = df[\"Color\"].replace({\n",
    "    \"Yellowish White\": \"yellow-white\",\n",
    "    \"Yellowish\": \"Yellow\",\n",
    "    \"yellowish\": \"Yellow\",\n",
    "    \"Pale yellow orange\": \"Yellow-orange\",\n",
    "    \"Blue White\": \"Blue-white\",\n",
    "    \"Blue white\": \"Blue-white\",\n",
    "    \"Blue-White\": \"Blue-white\",\n",
    "    \"white\": \"White\",\n",
    "    \"Whitish\": \"White\"\n",
    "})"
   ]
  },
  {
   "cell_type": "code",
   "execution_count": 45,
   "metadata": {},
   "outputs": [
    {
     "data": {
      "text/html": [
       "<div>\n",
       "<style scoped>\n",
       "    .dataframe tbody tr th:only-of-type {\n",
       "        vertical-align: middle;\n",
       "    }\n",
       "\n",
       "    .dataframe tbody tr th {\n",
       "        vertical-align: top;\n",
       "    }\n",
       "\n",
       "    .dataframe thead th {\n",
       "        text-align: right;\n",
       "    }\n",
       "</style>\n",
       "<table border=\"1\" class=\"dataframe\">\n",
       "  <thead>\n",
       "    <tr style=\"text-align: right;\">\n",
       "      <th></th>\n",
       "      <th>Temperature</th>\n",
       "      <th>L</th>\n",
       "      <th>R</th>\n",
       "      <th>A_M</th>\n",
       "      <th>Type</th>\n",
       "      <th>Color_Blue-white</th>\n",
       "      <th>Color_Orange</th>\n",
       "      <th>Color_Orange-Red</th>\n",
       "      <th>Color_Red</th>\n",
       "      <th>Color_White</th>\n",
       "      <th>Color_White-Yellow</th>\n",
       "      <th>Color_Yellow</th>\n",
       "      <th>Color_Yellow-orange</th>\n",
       "      <th>Color_yellow-white</th>\n",
       "      <th>Spectral_Class_B</th>\n",
       "      <th>Spectral_Class_F</th>\n",
       "      <th>Spectral_Class_G</th>\n",
       "      <th>Spectral_Class_K</th>\n",
       "      <th>Spectral_Class_M</th>\n",
       "      <th>Spectral_Class_O</th>\n",
       "    </tr>\n",
       "  </thead>\n",
       "  <tbody>\n",
       "    <tr>\n",
       "      <th>0</th>\n",
       "      <td>3068</td>\n",
       "      <td>0.002400</td>\n",
       "      <td>0.1700</td>\n",
       "      <td>16.12</td>\n",
       "      <td>0</td>\n",
       "      <td>0</td>\n",
       "      <td>0</td>\n",
       "      <td>0</td>\n",
       "      <td>1</td>\n",
       "      <td>0</td>\n",
       "      <td>0</td>\n",
       "      <td>0</td>\n",
       "      <td>0</td>\n",
       "      <td>0</td>\n",
       "      <td>0</td>\n",
       "      <td>0</td>\n",
       "      <td>0</td>\n",
       "      <td>0</td>\n",
       "      <td>1</td>\n",
       "      <td>0</td>\n",
       "    </tr>\n",
       "    <tr>\n",
       "      <th>1</th>\n",
       "      <td>3042</td>\n",
       "      <td>0.000500</td>\n",
       "      <td>0.1542</td>\n",
       "      <td>16.60</td>\n",
       "      <td>0</td>\n",
       "      <td>0</td>\n",
       "      <td>0</td>\n",
       "      <td>0</td>\n",
       "      <td>1</td>\n",
       "      <td>0</td>\n",
       "      <td>0</td>\n",
       "      <td>0</td>\n",
       "      <td>0</td>\n",
       "      <td>0</td>\n",
       "      <td>0</td>\n",
       "      <td>0</td>\n",
       "      <td>0</td>\n",
       "      <td>0</td>\n",
       "      <td>1</td>\n",
       "      <td>0</td>\n",
       "    </tr>\n",
       "    <tr>\n",
       "      <th>2</th>\n",
       "      <td>2600</td>\n",
       "      <td>0.000300</td>\n",
       "      <td>0.1020</td>\n",
       "      <td>18.70</td>\n",
       "      <td>0</td>\n",
       "      <td>0</td>\n",
       "      <td>0</td>\n",
       "      <td>0</td>\n",
       "      <td>1</td>\n",
       "      <td>0</td>\n",
       "      <td>0</td>\n",
       "      <td>0</td>\n",
       "      <td>0</td>\n",
       "      <td>0</td>\n",
       "      <td>0</td>\n",
       "      <td>0</td>\n",
       "      <td>0</td>\n",
       "      <td>0</td>\n",
       "      <td>1</td>\n",
       "      <td>0</td>\n",
       "    </tr>\n",
       "    <tr>\n",
       "      <th>3</th>\n",
       "      <td>2800</td>\n",
       "      <td>0.000200</td>\n",
       "      <td>0.1600</td>\n",
       "      <td>16.65</td>\n",
       "      <td>0</td>\n",
       "      <td>0</td>\n",
       "      <td>0</td>\n",
       "      <td>0</td>\n",
       "      <td>1</td>\n",
       "      <td>0</td>\n",
       "      <td>0</td>\n",
       "      <td>0</td>\n",
       "      <td>0</td>\n",
       "      <td>0</td>\n",
       "      <td>0</td>\n",
       "      <td>0</td>\n",
       "      <td>0</td>\n",
       "      <td>0</td>\n",
       "      <td>1</td>\n",
       "      <td>0</td>\n",
       "    </tr>\n",
       "    <tr>\n",
       "      <th>4</th>\n",
       "      <td>1939</td>\n",
       "      <td>0.000138</td>\n",
       "      <td>0.1030</td>\n",
       "      <td>20.06</td>\n",
       "      <td>0</td>\n",
       "      <td>0</td>\n",
       "      <td>0</td>\n",
       "      <td>0</td>\n",
       "      <td>1</td>\n",
       "      <td>0</td>\n",
       "      <td>0</td>\n",
       "      <td>0</td>\n",
       "      <td>0</td>\n",
       "      <td>0</td>\n",
       "      <td>0</td>\n",
       "      <td>0</td>\n",
       "      <td>0</td>\n",
       "      <td>0</td>\n",
       "      <td>1</td>\n",
       "      <td>0</td>\n",
       "    </tr>\n",
       "  </tbody>\n",
       "</table>\n",
       "</div>"
      ],
      "text/plain": [
       "   Temperature         L       R    A_M  Type  Color_Blue-white  Color_Orange  \\\n",
       "0         3068  0.002400  0.1700  16.12     0                 0             0   \n",
       "1         3042  0.000500  0.1542  16.60     0                 0             0   \n",
       "2         2600  0.000300  0.1020  18.70     0                 0             0   \n",
       "3         2800  0.000200  0.1600  16.65     0                 0             0   \n",
       "4         1939  0.000138  0.1030  20.06     0                 0             0   \n",
       "\n",
       "   Color_Orange-Red  Color_Red  Color_White  Color_White-Yellow  Color_Yellow  \\\n",
       "0                 0          1            0                   0             0   \n",
       "1                 0          1            0                   0             0   \n",
       "2                 0          1            0                   0             0   \n",
       "3                 0          1            0                   0             0   \n",
       "4                 0          1            0                   0             0   \n",
       "\n",
       "   Color_Yellow-orange  Color_yellow-white  Spectral_Class_B  \\\n",
       "0                    0                   0                 0   \n",
       "1                    0                   0                 0   \n",
       "2                    0                   0                 0   \n",
       "3                    0                   0                 0   \n",
       "4                    0                   0                 0   \n",
       "\n",
       "   Spectral_Class_F  Spectral_Class_G  Spectral_Class_K  Spectral_Class_M  \\\n",
       "0                 0                 0                 0                 1   \n",
       "1                 0                 0                 0                 1   \n",
       "2                 0                 0                 0                 1   \n",
       "3                 0                 0                 0                 1   \n",
       "4                 0                 0                 0                 1   \n",
       "\n",
       "   Spectral_Class_O  \n",
       "0                 0  \n",
       "1                 0  \n",
       "2                 0  \n",
       "3                 0  \n",
       "4                 0  "
      ]
     },
     "execution_count": 45,
     "metadata": {},
     "output_type": "execute_result"
    }
   ],
   "source": [
    "df = pd.get_dummies(data=df, columns=[\"Color\", \"Spectral_Class\"], drop_first=True)\n",
    "df.head()"
   ]
  },
  {
   "cell_type": "code",
   "execution_count": 111,
   "metadata": {},
   "outputs": [],
   "source": [
    "# Split the data to training and test sets \n",
    "X = df.drop(\"Type\", axis=1)\n",
    "y = df[\"Type\"]\n",
    "\n",
    "X_train, X_test, y_train, y_test = train_test_split(X, y, test_size=0.3, random_state=101)"
   ]
  },
  {
   "cell_type": "code",
   "execution_count": 112,
   "metadata": {},
   "outputs": [],
   "source": [
    "# Scale the Data\n",
    "scaler = StandardScaler()\n",
    "\n",
    "X_train = scaler.fit_transform(X_train)\n",
    "X_test = scaler.transform(X_test)"
   ]
  },
  {
   "cell_type": "markdown",
   "metadata": {},
   "source": [
    "<h6>Build Neural Network</h6> "
   ]
  },
  {
   "cell_type": "code",
   "execution_count": 136,
   "metadata": {},
   "outputs": [],
   "source": [
    "model = Sequential()\n",
    "\n",
    "model.add(Dense(16, activation=\"relu\"))\n",
    "model.add(Dropout(0.3))\n",
    "model.add(Dense(6, activation='softmax'))\n",
    "\n",
    "callback_list = [EarlyStopping(\n",
    "    monitor='val_loss',\n",
    "    min_delta=0.05,\n",
    "    patience=50,\n",
    "    mode='min',\n",
    "    restore_best_weights=True,\n",
    ")]"
   ]
  },
  {
   "cell_type": "code",
   "execution_count": 137,
   "metadata": {},
   "outputs": [
    {
     "name": "stdout",
     "output_type": "stream",
     "text": [
      "Epoch 1/500\n",
      "6/6 [==============================] - 0s 30ms/step - loss: 2.1269 - accuracy: 0.1310 - val_loss: 2.1511 - val_accuracy: 0.1528\n",
      "Epoch 2/500\n",
      "6/6 [==============================] - 0s 5ms/step - loss: 2.2189 - accuracy: 0.1190 - val_loss: 2.0909 - val_accuracy: 0.1667\n",
      "Epoch 3/500\n",
      "6/6 [==============================] - 0s 5ms/step - loss: 2.1010 - accuracy: 0.2500 - val_loss: 2.0312 - val_accuracy: 0.1806\n",
      "Epoch 4/500\n",
      "6/6 [==============================] - 0s 5ms/step - loss: 1.9792 - accuracy: 0.1607 - val_loss: 1.9781 - val_accuracy: 0.1806\n",
      "Epoch 5/500\n",
      "6/6 [==============================] - 0s 4ms/step - loss: 1.9001 - accuracy: 0.2381 - val_loss: 1.9268 - val_accuracy: 0.1806\n",
      "Epoch 6/500\n",
      "6/6 [==============================] - 0s 5ms/step - loss: 1.9238 - accuracy: 0.2679 - val_loss: 1.8766 - val_accuracy: 0.3194\n",
      "Epoch 7/500\n",
      "6/6 [==============================] - 0s 6ms/step - loss: 1.8989 - accuracy: 0.2381 - val_loss: 1.8265 - val_accuracy: 0.3611\n",
      "Epoch 8/500\n",
      "6/6 [==============================] - 0s 5ms/step - loss: 1.8403 - accuracy: 0.2679 - val_loss: 1.7777 - val_accuracy: 0.3750\n",
      "Epoch 9/500\n",
      "6/6 [==============================] - 0s 5ms/step - loss: 1.7717 - accuracy: 0.2857 - val_loss: 1.7345 - val_accuracy: 0.4167\n",
      "Epoch 10/500\n",
      "6/6 [==============================] - 0s 4ms/step - loss: 1.7538 - accuracy: 0.3393 - val_loss: 1.6930 - val_accuracy: 0.4167\n",
      "Epoch 11/500\n",
      "6/6 [==============================] - 0s 4ms/step - loss: 1.6834 - accuracy: 0.3810 - val_loss: 1.6534 - val_accuracy: 0.4444\n",
      "Epoch 12/500\n",
      "6/6 [==============================] - 0s 4ms/step - loss: 1.6159 - accuracy: 0.4107 - val_loss: 1.6133 - val_accuracy: 0.4583\n",
      "Epoch 13/500\n",
      "6/6 [==============================] - 0s 4ms/step - loss: 1.6281 - accuracy: 0.3631 - val_loss: 1.5742 - val_accuracy: 0.4722\n",
      "Epoch 14/500\n",
      "6/6 [==============================] - 0s 4ms/step - loss: 1.6165 - accuracy: 0.4286 - val_loss: 1.5374 - val_accuracy: 0.4861\n",
      "Epoch 15/500\n",
      "6/6 [==============================] - 0s 6ms/step - loss: 1.5765 - accuracy: 0.4107 - val_loss: 1.5009 - val_accuracy: 0.5000\n",
      "Epoch 16/500\n",
      "6/6 [==============================] - 0s 5ms/step - loss: 1.5510 - accuracy: 0.4643 - val_loss: 1.4650 - val_accuracy: 0.5000\n",
      "Epoch 17/500\n",
      "6/6 [==============================] - 0s 6ms/step - loss: 1.4791 - accuracy: 0.4524 - val_loss: 1.4287 - val_accuracy: 0.5000\n",
      "Epoch 18/500\n",
      "6/6 [==============================] - 0s 5ms/step - loss: 1.4373 - accuracy: 0.4881 - val_loss: 1.3939 - val_accuracy: 0.4861\n",
      "Epoch 19/500\n",
      "6/6 [==============================] - 0s 5ms/step - loss: 1.4433 - accuracy: 0.4286 - val_loss: 1.3605 - val_accuracy: 0.4722\n",
      "Epoch 20/500\n",
      "6/6 [==============================] - 0s 5ms/step - loss: 1.4086 - accuracy: 0.4464 - val_loss: 1.3301 - val_accuracy: 0.4722\n",
      "Epoch 21/500\n",
      "6/6 [==============================] - 0s 5ms/step - loss: 1.3423 - accuracy: 0.4762 - val_loss: 1.2992 - val_accuracy: 0.4722\n",
      "Epoch 22/500\n",
      "6/6 [==============================] - 0s 6ms/step - loss: 1.3050 - accuracy: 0.4940 - val_loss: 1.2713 - val_accuracy: 0.4861\n",
      "Epoch 23/500\n",
      "6/6 [==============================] - 0s 5ms/step - loss: 1.3607 - accuracy: 0.4702 - val_loss: 1.2442 - val_accuracy: 0.4861\n",
      "Epoch 24/500\n",
      "6/6 [==============================] - 0s 5ms/step - loss: 1.3179 - accuracy: 0.5119 - val_loss: 1.2164 - val_accuracy: 0.5000\n",
      "Epoch 25/500\n",
      "6/6 [==============================] - 0s 5ms/step - loss: 1.2151 - accuracy: 0.5476 - val_loss: 1.1900 - val_accuracy: 0.5139\n",
      "Epoch 26/500\n",
      "6/6 [==============================] - 0s 5ms/step - loss: 1.3072 - accuracy: 0.4762 - val_loss: 1.1626 - val_accuracy: 0.5139\n",
      "Epoch 27/500\n",
      "6/6 [==============================] - 0s 5ms/step - loss: 1.2307 - accuracy: 0.5298 - val_loss: 1.1362 - val_accuracy: 0.5139\n",
      "Epoch 28/500\n",
      "6/6 [==============================] - 0s 5ms/step - loss: 1.2078 - accuracy: 0.5000 - val_loss: 1.1101 - val_accuracy: 0.5139\n",
      "Epoch 29/500\n",
      "6/6 [==============================] - 0s 6ms/step - loss: 1.2076 - accuracy: 0.5119 - val_loss: 1.0855 - val_accuracy: 0.5278\n",
      "Epoch 30/500\n",
      "6/6 [==============================] - 0s 6ms/step - loss: 1.1428 - accuracy: 0.5536 - val_loss: 1.0623 - val_accuracy: 0.5694\n",
      "Epoch 31/500\n",
      "6/6 [==============================] - 0s 4ms/step - loss: 1.1731 - accuracy: 0.5238 - val_loss: 1.0401 - val_accuracy: 0.5694\n",
      "Epoch 32/500\n",
      "6/6 [==============================] - 0s 4ms/step - loss: 1.1464 - accuracy: 0.5298 - val_loss: 1.0201 - val_accuracy: 0.5694\n",
      "Epoch 33/500\n",
      "6/6 [==============================] - 0s 4ms/step - loss: 1.1057 - accuracy: 0.5357 - val_loss: 1.0015 - val_accuracy: 0.5694\n",
      "Epoch 34/500\n",
      "6/6 [==============================] - 0s 5ms/step - loss: 1.0385 - accuracy: 0.5476 - val_loss: 0.9825 - val_accuracy: 0.5694\n",
      "Epoch 35/500\n",
      "6/6 [==============================] - 0s 5ms/step - loss: 1.0608 - accuracy: 0.5417 - val_loss: 0.9639 - val_accuracy: 0.5694\n",
      "Epoch 36/500\n",
      "6/6 [==============================] - 0s 5ms/step - loss: 1.0423 - accuracy: 0.5595 - val_loss: 0.9455 - val_accuracy: 0.5972\n",
      "Epoch 37/500\n",
      "6/6 [==============================] - 0s 7ms/step - loss: 1.0022 - accuracy: 0.5655 - val_loss: 0.9276 - val_accuracy: 0.6250\n",
      "Epoch 38/500\n",
      "6/6 [==============================] - 0s 5ms/step - loss: 0.9863 - accuracy: 0.6012 - val_loss: 0.9109 - val_accuracy: 0.6389\n",
      "Epoch 39/500\n",
      "6/6 [==============================] - 0s 5ms/step - loss: 0.9921 - accuracy: 0.6012 - val_loss: 0.8933 - val_accuracy: 0.6389\n",
      "Epoch 40/500\n",
      "6/6 [==============================] - 0s 7ms/step - loss: 0.9577 - accuracy: 0.6131 - val_loss: 0.8769 - val_accuracy: 0.6389\n",
      "Epoch 41/500\n",
      "6/6 [==============================] - 0s 5ms/step - loss: 1.0126 - accuracy: 0.5833 - val_loss: 0.8608 - val_accuracy: 0.6389\n",
      "Epoch 42/500\n",
      "6/6 [==============================] - 0s 4ms/step - loss: 0.9404 - accuracy: 0.5714 - val_loss: 0.8465 - val_accuracy: 0.6389\n",
      "Epoch 43/500\n",
      "6/6 [==============================] - 0s 7ms/step - loss: 0.9582 - accuracy: 0.5952 - val_loss: 0.8327 - val_accuracy: 0.6528\n",
      "Epoch 44/500\n",
      "6/6 [==============================] - 0s 5ms/step - loss: 0.8721 - accuracy: 0.6607 - val_loss: 0.8200 - val_accuracy: 0.6528\n",
      "Epoch 45/500\n",
      "6/6 [==============================] - 0s 5ms/step - loss: 0.9261 - accuracy: 0.6190 - val_loss: 0.8068 - val_accuracy: 0.6528\n",
      "Epoch 46/500\n",
      "6/6 [==============================] - 0s 5ms/step - loss: 0.8501 - accuracy: 0.6548 - val_loss: 0.7956 - val_accuracy: 0.6667\n",
      "Epoch 47/500\n",
      "6/6 [==============================] - 0s 5ms/step - loss: 0.8367 - accuracy: 0.6845 - val_loss: 0.7831 - val_accuracy: 0.6667\n",
      "Epoch 48/500\n",
      "6/6 [==============================] - 0s 5ms/step - loss: 0.8555 - accuracy: 0.6310 - val_loss: 0.7709 - val_accuracy: 0.6667\n",
      "Epoch 49/500\n",
      "6/6 [==============================] - 0s 5ms/step - loss: 0.9133 - accuracy: 0.6131 - val_loss: 0.7592 - val_accuracy: 0.6944\n",
      "Epoch 50/500\n",
      "6/6 [==============================] - 0s 5ms/step - loss: 0.8580 - accuracy: 0.6310 - val_loss: 0.7489 - val_accuracy: 0.6944\n",
      "Epoch 51/500\n",
      "6/6 [==============================] - 0s 7ms/step - loss: 0.8564 - accuracy: 0.7143 - val_loss: 0.7385 - val_accuracy: 0.6944\n",
      "Epoch 52/500\n",
      "6/6 [==============================] - 0s 6ms/step - loss: 0.8337 - accuracy: 0.6667 - val_loss: 0.7292 - val_accuracy: 0.6806\n",
      "Epoch 53/500\n",
      "6/6 [==============================] - 0s 5ms/step - loss: 0.8240 - accuracy: 0.6905 - val_loss: 0.7182 - val_accuracy: 0.6944\n",
      "Epoch 54/500\n",
      "6/6 [==============================] - 0s 5ms/step - loss: 0.7818 - accuracy: 0.7143 - val_loss: 0.7087 - val_accuracy: 0.7083\n",
      "Epoch 55/500\n",
      "6/6 [==============================] - 0s 6ms/step - loss: 0.7492 - accuracy: 0.7083 - val_loss: 0.6997 - val_accuracy: 0.7083\n",
      "Epoch 56/500\n",
      "6/6 [==============================] - 0s 6ms/step - loss: 0.8287 - accuracy: 0.6964 - val_loss: 0.6902 - val_accuracy: 0.7500\n",
      "Epoch 57/500\n",
      "6/6 [==============================] - 0s 6ms/step - loss: 0.8200 - accuracy: 0.7024 - val_loss: 0.6810 - val_accuracy: 0.7500\n",
      "Epoch 58/500\n",
      "6/6 [==============================] - 0s 5ms/step - loss: 0.7843 - accuracy: 0.7262 - val_loss: 0.6722 - val_accuracy: 0.7639\n",
      "Epoch 59/500\n"
     ]
    },
    {
     "name": "stdout",
     "output_type": "stream",
     "text": [
      "6/6 [==============================] - 0s 5ms/step - loss: 0.7144 - accuracy: 0.7321 - val_loss: 0.6640 - val_accuracy: 0.8056\n",
      "Epoch 60/500\n",
      "6/6 [==============================] - 0s 5ms/step - loss: 0.7293 - accuracy: 0.7381 - val_loss: 0.6549 - val_accuracy: 0.8056\n",
      "Epoch 61/500\n",
      "6/6 [==============================] - 0s 5ms/step - loss: 0.8111 - accuracy: 0.7024 - val_loss: 0.6466 - val_accuracy: 0.8056\n",
      "Epoch 62/500\n",
      "6/6 [==============================] - 0s 5ms/step - loss: 0.7352 - accuracy: 0.7560 - val_loss: 0.6391 - val_accuracy: 0.8056\n",
      "Epoch 63/500\n",
      "6/6 [==============================] - 0s 5ms/step - loss: 0.7821 - accuracy: 0.7143 - val_loss: 0.6321 - val_accuracy: 0.8194\n",
      "Epoch 64/500\n",
      "6/6 [==============================] - 0s 6ms/step - loss: 0.6964 - accuracy: 0.7679 - val_loss: 0.6255 - val_accuracy: 0.8472\n",
      "Epoch 65/500\n",
      "6/6 [==============================] - 0s 4ms/step - loss: 0.7402 - accuracy: 0.7024 - val_loss: 0.6176 - val_accuracy: 0.8472\n",
      "Epoch 66/500\n",
      "6/6 [==============================] - 0s 4ms/step - loss: 0.7211 - accuracy: 0.7440 - val_loss: 0.6110 - val_accuracy: 0.8611\n",
      "Epoch 67/500\n",
      "6/6 [==============================] - 0s 4ms/step - loss: 0.7913 - accuracy: 0.6845 - val_loss: 0.6037 - val_accuracy: 0.8611\n",
      "Epoch 68/500\n",
      "6/6 [==============================] - 0s 4ms/step - loss: 0.6858 - accuracy: 0.7440 - val_loss: 0.5957 - val_accuracy: 0.8472\n",
      "Epoch 69/500\n",
      "6/6 [==============================] - 0s 4ms/step - loss: 0.7089 - accuracy: 0.7262 - val_loss: 0.5887 - val_accuracy: 0.8611\n",
      "Epoch 70/500\n",
      "6/6 [==============================] - ETA: 0s - loss: 0.8206 - accuracy: 0.63 - 0s 5ms/step - loss: 0.6666 - accuracy: 0.7738 - val_loss: 0.5819 - val_accuracy: 0.8611\n",
      "Epoch 71/500\n",
      "6/6 [==============================] - 0s 4ms/step - loss: 0.6994 - accuracy: 0.7619 - val_loss: 0.5753 - val_accuracy: 0.8611\n",
      "Epoch 72/500\n",
      "6/6 [==============================] - 0s 4ms/step - loss: 0.6559 - accuracy: 0.7679 - val_loss: 0.5682 - val_accuracy: 0.8611\n",
      "Epoch 73/500\n",
      "6/6 [==============================] - 0s 3ms/step - loss: 0.6845 - accuracy: 0.7738 - val_loss: 0.5612 - val_accuracy: 0.8750\n",
      "Epoch 74/500\n",
      "6/6 [==============================] - 0s 4ms/step - loss: 0.6478 - accuracy: 0.8095 - val_loss: 0.5541 - val_accuracy: 0.8889\n",
      "Epoch 75/500\n",
      "6/6 [==============================] - 0s 3ms/step - loss: 0.6531 - accuracy: 0.7738 - val_loss: 0.5476 - val_accuracy: 0.8889\n",
      "Epoch 76/500\n",
      "6/6 [==============================] - 0s 4ms/step - loss: 0.6598 - accuracy: 0.8036 - val_loss: 0.5424 - val_accuracy: 0.8889\n",
      "Epoch 77/500\n",
      "6/6 [==============================] - 0s 3ms/step - loss: 0.6395 - accuracy: 0.7798 - val_loss: 0.5369 - val_accuracy: 0.8889\n",
      "Epoch 78/500\n",
      "6/6 [==============================] - 0s 3ms/step - loss: 0.6816 - accuracy: 0.7440 - val_loss: 0.5318 - val_accuracy: 0.8889\n",
      "Epoch 79/500\n",
      "6/6 [==============================] - 0s 3ms/step - loss: 0.6069 - accuracy: 0.8214 - val_loss: 0.5258 - val_accuracy: 0.8750\n",
      "Epoch 80/500\n",
      "6/6 [==============================] - 0s 3ms/step - loss: 0.6679 - accuracy: 0.7738 - val_loss: 0.5213 - val_accuracy: 0.8750\n",
      "Epoch 81/500\n",
      "6/6 [==============================] - 0s 3ms/step - loss: 0.6143 - accuracy: 0.7798 - val_loss: 0.5166 - val_accuracy: 0.8889\n",
      "Epoch 82/500\n",
      "6/6 [==============================] - 0s 3ms/step - loss: 0.6547 - accuracy: 0.7976 - val_loss: 0.5110 - val_accuracy: 0.8889\n",
      "Epoch 83/500\n",
      "6/6 [==============================] - 0s 4ms/step - loss: 0.6852 - accuracy: 0.7798 - val_loss: 0.5054 - val_accuracy: 0.8889\n",
      "Epoch 84/500\n",
      "6/6 [==============================] - 0s 4ms/step - loss: 0.6377 - accuracy: 0.7738 - val_loss: 0.5009 - val_accuracy: 0.8889\n",
      "Epoch 85/500\n",
      "6/6 [==============================] - 0s 4ms/step - loss: 0.6076 - accuracy: 0.8155 - val_loss: 0.4971 - val_accuracy: 0.9028\n",
      "Epoch 86/500\n",
      "6/6 [==============================] - 0s 4ms/step - loss: 0.5678 - accuracy: 0.7976 - val_loss: 0.4916 - val_accuracy: 0.9028\n",
      "Epoch 87/500\n",
      "6/6 [==============================] - 0s 4ms/step - loss: 0.6315 - accuracy: 0.7857 - val_loss: 0.4860 - val_accuracy: 0.8889\n",
      "Epoch 88/500\n",
      "6/6 [==============================] - 0s 4ms/step - loss: 0.5599 - accuracy: 0.8393 - val_loss: 0.4813 - val_accuracy: 0.9167\n",
      "Epoch 89/500\n",
      "6/6 [==============================] - 0s 4ms/step - loss: 0.6276 - accuracy: 0.8036 - val_loss: 0.4760 - val_accuracy: 0.9028\n",
      "Epoch 90/500\n",
      "6/6 [==============================] - 0s 5ms/step - loss: 0.5732 - accuracy: 0.8690 - val_loss: 0.4719 - val_accuracy: 0.9167\n",
      "Epoch 91/500\n",
      "6/6 [==============================] - 0s 10ms/step - loss: 0.5328 - accuracy: 0.8571 - val_loss: 0.4679 - val_accuracy: 0.9167\n",
      "Epoch 92/500\n",
      "6/6 [==============================] - 0s 5ms/step - loss: 0.5649 - accuracy: 0.8393 - val_loss: 0.4646 - val_accuracy: 0.9167\n",
      "Epoch 93/500\n",
      "6/6 [==============================] - 0s 5ms/step - loss: 0.5298 - accuracy: 0.8393 - val_loss: 0.4609 - val_accuracy: 0.9167\n",
      "Epoch 94/500\n",
      "6/6 [==============================] - 0s 4ms/step - loss: 0.5477 - accuracy: 0.8631 - val_loss: 0.4574 - val_accuracy: 0.9306\n",
      "Epoch 95/500\n",
      "6/6 [==============================] - 0s 4ms/step - loss: 0.5607 - accuracy: 0.8333 - val_loss: 0.4527 - val_accuracy: 0.9306\n",
      "Epoch 96/500\n",
      "6/6 [==============================] - 0s 4ms/step - loss: 0.5935 - accuracy: 0.7976 - val_loss: 0.4486 - val_accuracy: 0.9306\n",
      "Epoch 97/500\n",
      "6/6 [==============================] - 0s 5ms/step - loss: 0.5935 - accuracy: 0.8155 - val_loss: 0.4448 - val_accuracy: 0.9306\n",
      "Epoch 98/500\n",
      "6/6 [==============================] - 0s 5ms/step - loss: 0.5940 - accuracy: 0.8036 - val_loss: 0.4423 - val_accuracy: 0.9444\n",
      "Epoch 99/500\n",
      "6/6 [==============================] - 0s 4ms/step - loss: 0.5503 - accuracy: 0.8452 - val_loss: 0.4407 - val_accuracy: 0.9306\n",
      "Epoch 100/500\n",
      "6/6 [==============================] - 0s 4ms/step - loss: 0.5450 - accuracy: 0.7976 - val_loss: 0.4392 - val_accuracy: 0.9306\n",
      "Epoch 101/500\n",
      "6/6 [==============================] - 0s 4ms/step - loss: 0.5574 - accuracy: 0.7917 - val_loss: 0.4367 - val_accuracy: 0.9444\n",
      "Epoch 102/500\n",
      "6/6 [==============================] - 0s 4ms/step - loss: 0.4888 - accuracy: 0.8690 - val_loss: 0.4331 - val_accuracy: 0.9306\n",
      "Epoch 103/500\n",
      "6/6 [==============================] - 0s 4ms/step - loss: 0.5521 - accuracy: 0.8631 - val_loss: 0.4294 - val_accuracy: 0.9306\n",
      "Epoch 104/500\n",
      "6/6 [==============================] - 0s 4ms/step - loss: 0.5100 - accuracy: 0.8571 - val_loss: 0.4255 - val_accuracy: 0.9306\n",
      "Epoch 105/500\n",
      "6/6 [==============================] - 0s 4ms/step - loss: 0.5320 - accuracy: 0.8571 - val_loss: 0.4220 - val_accuracy: 0.9583\n",
      "Epoch 106/500\n",
      "6/6 [==============================] - 0s 5ms/step - loss: 0.4849 - accuracy: 0.8929 - val_loss: 0.4186 - val_accuracy: 0.9583\n",
      "Epoch 107/500\n",
      "6/6 [==============================] - 0s 5ms/step - loss: 0.4972 - accuracy: 0.8810 - val_loss: 0.4145 - val_accuracy: 0.9583\n",
      "Epoch 108/500\n",
      "6/6 [==============================] - 0s 4ms/step - loss: 0.5317 - accuracy: 0.8512 - val_loss: 0.4095 - val_accuracy: 0.9583\n",
      "Epoch 109/500\n",
      "6/6 [==============================] - 0s 5ms/step - loss: 0.5633 - accuracy: 0.8214 - val_loss: 0.4059 - val_accuracy: 0.9444\n",
      "Epoch 110/500\n",
      "6/6 [==============================] - 0s 5ms/step - loss: 0.5291 - accuracy: 0.8274 - val_loss: 0.4022 - val_accuracy: 0.9444\n",
      "Epoch 111/500\n",
      "6/6 [==============================] - 0s 4ms/step - loss: 0.5081 - accuracy: 0.8214 - val_loss: 0.3994 - val_accuracy: 0.9444\n",
      "Epoch 112/500\n",
      "6/6 [==============================] - 0s 5ms/step - loss: 0.5047 - accuracy: 0.8274 - val_loss: 0.3971 - val_accuracy: 0.9444\n",
      "Epoch 113/500\n",
      "6/6 [==============================] - 0s 6ms/step - loss: 0.5139 - accuracy: 0.8274 - val_loss: 0.3948 - val_accuracy: 0.9444\n",
      "Epoch 114/500\n",
      "6/6 [==============================] - 0s 5ms/step - loss: 0.5034 - accuracy: 0.8452 - val_loss: 0.3923 - val_accuracy: 0.9444\n",
      "Epoch 115/500\n",
      "6/6 [==============================] - 0s 6ms/step - loss: 0.5169 - accuracy: 0.8036 - val_loss: 0.3899 - val_accuracy: 0.9444\n",
      "Epoch 116/500\n",
      "6/6 [==============================] - 0s 6ms/step - loss: 0.4433 - accuracy: 0.8750 - val_loss: 0.3880 - val_accuracy: 0.9444\n",
      "Epoch 117/500\n"
     ]
    },
    {
     "name": "stdout",
     "output_type": "stream",
     "text": [
      "6/6 [==============================] - 0s 5ms/step - loss: 0.4501 - accuracy: 0.9048 - val_loss: 0.3860 - val_accuracy: 0.9444\n",
      "Epoch 118/500\n",
      "6/6 [==============================] - 0s 7ms/step - loss: 0.5762 - accuracy: 0.7857 - val_loss: 0.3836 - val_accuracy: 0.9444\n",
      "Epoch 119/500\n",
      "6/6 [==============================] - 0s 6ms/step - loss: 0.4179 - accuracy: 0.8869 - val_loss: 0.3820 - val_accuracy: 0.9444\n",
      "Epoch 120/500\n",
      "6/6 [==============================] - 0s 7ms/step - loss: 0.4594 - accuracy: 0.8512 - val_loss: 0.3804 - val_accuracy: 0.9444\n",
      "Epoch 121/500\n",
      "6/6 [==============================] - 0s 6ms/step - loss: 0.4730 - accuracy: 0.8690 - val_loss: 0.3771 - val_accuracy: 0.9444\n",
      "Epoch 122/500\n",
      "6/6 [==============================] - 0s 5ms/step - loss: 0.4953 - accuracy: 0.8512 - val_loss: 0.3736 - val_accuracy: 0.9444\n",
      "Epoch 123/500\n",
      "6/6 [==============================] - 0s 6ms/step - loss: 0.4695 - accuracy: 0.8452 - val_loss: 0.3711 - val_accuracy: 0.9444\n",
      "Epoch 124/500\n",
      "6/6 [==============================] - 0s 6ms/step - loss: 0.4283 - accuracy: 0.8869 - val_loss: 0.3699 - val_accuracy: 0.9444\n",
      "Epoch 125/500\n",
      "6/6 [==============================] - 0s 6ms/step - loss: 0.5042 - accuracy: 0.8452 - val_loss: 0.3678 - val_accuracy: 0.9444\n",
      "Epoch 126/500\n",
      "6/6 [==============================] - 0s 9ms/step - loss: 0.4189 - accuracy: 0.9048 - val_loss: 0.3666 - val_accuracy: 0.9444\n",
      "Epoch 127/500\n",
      "6/6 [==============================] - 0s 5ms/step - loss: 0.4369 - accuracy: 0.8690 - val_loss: 0.3642 - val_accuracy: 0.9444\n",
      "Epoch 128/500\n",
      "6/6 [==============================] - 0s 4ms/step - loss: 0.4698 - accuracy: 0.9048 - val_loss: 0.3621 - val_accuracy: 0.9444\n",
      "Epoch 129/500\n",
      "6/6 [==============================] - 0s 4ms/step - loss: 0.4427 - accuracy: 0.8869 - val_loss: 0.3602 - val_accuracy: 0.9444\n",
      "Epoch 130/500\n",
      "6/6 [==============================] - 0s 4ms/step - loss: 0.4644 - accuracy: 0.8452 - val_loss: 0.3590 - val_accuracy: 0.9444\n",
      "Epoch 131/500\n",
      "6/6 [==============================] - 0s 4ms/step - loss: 0.4361 - accuracy: 0.8869 - val_loss: 0.3584 - val_accuracy: 0.9444\n",
      "Epoch 132/500\n",
      "6/6 [==============================] - 0s 5ms/step - loss: 0.4475 - accuracy: 0.8571 - val_loss: 0.3572 - val_accuracy: 0.9444\n",
      "Epoch 133/500\n",
      "6/6 [==============================] - 0s 6ms/step - loss: 0.4439 - accuracy: 0.8512 - val_loss: 0.3565 - val_accuracy: 0.9444\n",
      "Epoch 134/500\n",
      "6/6 [==============================] - 0s 6ms/step - loss: 0.4206 - accuracy: 0.8810 - val_loss: 0.3542 - val_accuracy: 0.9583\n",
      "Epoch 135/500\n",
      "6/6 [==============================] - 0s 6ms/step - loss: 0.4673 - accuracy: 0.8512 - val_loss: 0.3517 - val_accuracy: 0.9583\n",
      "Epoch 136/500\n",
      "6/6 [==============================] - 0s 6ms/step - loss: 0.4545 - accuracy: 0.8690 - val_loss: 0.3497 - val_accuracy: 0.9583\n",
      "Epoch 137/500\n",
      "6/6 [==============================] - 0s 6ms/step - loss: 0.4545 - accuracy: 0.8452 - val_loss: 0.3475 - val_accuracy: 0.9583\n",
      "Epoch 138/500\n",
      "6/6 [==============================] - 0s 6ms/step - loss: 0.3994 - accuracy: 0.9048 - val_loss: 0.3450 - val_accuracy: 0.9444\n",
      "Epoch 139/500\n",
      "6/6 [==============================] - ETA: 0s - loss: 0.4796 - accuracy: 0.80 - 0s 7ms/step - loss: 0.4492 - accuracy: 0.8750 - val_loss: 0.3427 - val_accuracy: 0.9444\n",
      "Epoch 140/500\n",
      "6/6 [==============================] - 0s 7ms/step - loss: 0.4640 - accuracy: 0.8452 - val_loss: 0.3406 - val_accuracy: 0.9444\n",
      "Epoch 141/500\n",
      "6/6 [==============================] - 0s 5ms/step - loss: 0.3750 - accuracy: 0.9167 - val_loss: 0.3378 - val_accuracy: 0.9444\n",
      "Epoch 142/500\n",
      "6/6 [==============================] - 0s 12ms/step - loss: 0.3987 - accuracy: 0.8929 - val_loss: 0.3364 - val_accuracy: 0.9444\n",
      "Epoch 143/500\n",
      "6/6 [==============================] - 0s 7ms/step - loss: 0.3994 - accuracy: 0.8750 - val_loss: 0.3340 - val_accuracy: 0.9444\n",
      "Epoch 144/500\n",
      "6/6 [==============================] - 0s 5ms/step - loss: 0.3803 - accuracy: 0.9226 - val_loss: 0.3325 - val_accuracy: 0.9444\n",
      "Epoch 145/500\n",
      "6/6 [==============================] - 0s 9ms/step - loss: 0.4004 - accuracy: 0.8929 - val_loss: 0.3310 - val_accuracy: 0.9444\n",
      "Epoch 146/500\n",
      "6/6 [==============================] - 0s 5ms/step - loss: 0.4113 - accuracy: 0.8810 - val_loss: 0.3296 - val_accuracy: 0.9444\n",
      "Epoch 147/500\n",
      "6/6 [==============================] - 0s 9ms/step - loss: 0.3901 - accuracy: 0.9107 - val_loss: 0.3278 - val_accuracy: 0.9444\n",
      "Epoch 148/500\n",
      "6/6 [==============================] - 0s 8ms/step - loss: 0.4437 - accuracy: 0.8631 - val_loss: 0.3256 - val_accuracy: 0.9444\n",
      "Epoch 149/500\n",
      "6/6 [==============================] - 0s 6ms/step - loss: 0.3609 - accuracy: 0.9226 - val_loss: 0.3231 - val_accuracy: 0.9444\n",
      "Epoch 150/500\n",
      "6/6 [==============================] - 0s 5ms/step - loss: 0.4182 - accuracy: 0.8929 - val_loss: 0.3209 - val_accuracy: 0.9444\n",
      "Epoch 151/500\n",
      "6/6 [==============================] - 0s 4ms/step - loss: 0.4172 - accuracy: 0.8631 - val_loss: 0.3200 - val_accuracy: 0.9444\n",
      "Epoch 152/500\n",
      "6/6 [==============================] - 0s 4ms/step - loss: 0.4097 - accuracy: 0.8988 - val_loss: 0.3193 - val_accuracy: 0.9583\n",
      "Epoch 153/500\n",
      "6/6 [==============================] - 0s 4ms/step - loss: 0.4188 - accuracy: 0.8690 - val_loss: 0.3177 - val_accuracy: 0.9583\n",
      "Epoch 154/500\n",
      "6/6 [==============================] - 0s 4ms/step - loss: 0.4126 - accuracy: 0.8988 - val_loss: 0.3157 - val_accuracy: 0.9583\n",
      "Epoch 155/500\n",
      "6/6 [==============================] - 0s 4ms/step - loss: 0.3542 - accuracy: 0.8988 - val_loss: 0.3122 - val_accuracy: 0.9444\n",
      "Epoch 156/500\n",
      "6/6 [==============================] - 0s 4ms/step - loss: 0.3830 - accuracy: 0.9048 - val_loss: 0.3096 - val_accuracy: 0.9444\n",
      "Epoch 157/500\n",
      "6/6 [==============================] - 0s 5ms/step - loss: 0.3578 - accuracy: 0.8869 - val_loss: 0.3073 - val_accuracy: 0.9444\n",
      "Epoch 158/500\n",
      "6/6 [==============================] - 0s 5ms/step - loss: 0.3624 - accuracy: 0.9048 - val_loss: 0.3057 - val_accuracy: 0.9444\n",
      "Epoch 159/500\n",
      "6/6 [==============================] - 0s 6ms/step - loss: 0.4066 - accuracy: 0.8810 - val_loss: 0.3048 - val_accuracy: 0.9583\n",
      "Epoch 160/500\n",
      "6/6 [==============================] - 0s 4ms/step - loss: 0.4195 - accuracy: 0.8750 - val_loss: 0.3039 - val_accuracy: 0.9583\n",
      "Epoch 161/500\n",
      "6/6 [==============================] - 0s 5ms/step - loss: 0.3524 - accuracy: 0.9226 - val_loss: 0.3035 - val_accuracy: 0.9583\n",
      "Epoch 162/500\n",
      "6/6 [==============================] - 0s 5ms/step - loss: 0.4215 - accuracy: 0.8869 - val_loss: 0.3014 - val_accuracy: 0.9583\n",
      "Epoch 163/500\n",
      "6/6 [==============================] - 0s 5ms/step - loss: 0.3323 - accuracy: 0.8988 - val_loss: 0.2999 - val_accuracy: 0.9583\n",
      "Epoch 164/500\n",
      "6/6 [==============================] - 0s 5ms/step - loss: 0.3742 - accuracy: 0.8869 - val_loss: 0.2987 - val_accuracy: 0.9583\n",
      "Epoch 165/500\n",
      "6/6 [==============================] - 0s 5ms/step - loss: 0.3759 - accuracy: 0.9107 - val_loss: 0.2969 - val_accuracy: 0.9583\n",
      "Epoch 166/500\n",
      "6/6 [==============================] - 0s 5ms/step - loss: 0.3711 - accuracy: 0.8869 - val_loss: 0.2957 - val_accuracy: 0.9583\n",
      "Epoch 167/500\n",
      "6/6 [==============================] - 0s 5ms/step - loss: 0.3897 - accuracy: 0.8810 - val_loss: 0.2948 - val_accuracy: 0.9583\n",
      "Epoch 168/500\n",
      "6/6 [==============================] - 0s 5ms/step - loss: 0.3962 - accuracy: 0.8750 - val_loss: 0.2958 - val_accuracy: 0.9722\n",
      "Epoch 169/500\n",
      "6/6 [==============================] - 0s 4ms/step - loss: 0.3736 - accuracy: 0.9107 - val_loss: 0.2962 - val_accuracy: 0.9722\n",
      "Epoch 170/500\n",
      "6/6 [==============================] - 0s 4ms/step - loss: 0.3607 - accuracy: 0.9286 - val_loss: 0.2949 - val_accuracy: 0.9722\n",
      "Epoch 171/500\n",
      "6/6 [==============================] - 0s 4ms/step - loss: 0.4248 - accuracy: 0.8512 - val_loss: 0.2935 - val_accuracy: 0.9583\n",
      "Epoch 172/500\n",
      "6/6 [==============================] - 0s 4ms/step - loss: 0.3374 - accuracy: 0.9226 - val_loss: 0.2934 - val_accuracy: 0.9583\n",
      "Epoch 173/500\n",
      "6/6 [==============================] - 0s 5ms/step - loss: 0.3723 - accuracy: 0.8988 - val_loss: 0.2931 - val_accuracy: 0.9583\n",
      "Epoch 174/500\n",
      "6/6 [==============================] - 0s 5ms/step - loss: 0.3985 - accuracy: 0.8690 - val_loss: 0.2917 - val_accuracy: 0.9583\n"
     ]
    },
    {
     "name": "stdout",
     "output_type": "stream",
     "text": [
      "Epoch 175/500\n",
      "6/6 [==============================] - 0s 5ms/step - loss: 0.3996 - accuracy: 0.8571 - val_loss: 0.2891 - val_accuracy: 0.9583\n",
      "Epoch 176/500\n",
      "6/6 [==============================] - 0s 6ms/step - loss: 0.3520 - accuracy: 0.9107 - val_loss: 0.2880 - val_accuracy: 0.9583\n",
      "Epoch 177/500\n",
      "6/6 [==============================] - 0s 5ms/step - loss: 0.3416 - accuracy: 0.9107 - val_loss: 0.2872 - val_accuracy: 0.9722\n",
      "Epoch 178/500\n",
      "6/6 [==============================] - 0s 4ms/step - loss: 0.3295 - accuracy: 0.9048 - val_loss: 0.2860 - val_accuracy: 0.9722\n",
      "Epoch 179/500\n",
      "6/6 [==============================] - 0s 4ms/step - loss: 0.3445 - accuracy: 0.9107 - val_loss: 0.2844 - val_accuracy: 0.9583\n",
      "Epoch 180/500\n",
      "6/6 [==============================] - 0s 4ms/step - loss: 0.3319 - accuracy: 0.9107 - val_loss: 0.2821 - val_accuracy: 0.9583\n",
      "Epoch 181/500\n",
      "6/6 [==============================] - 0s 4ms/step - loss: 0.3299 - accuracy: 0.8929 - val_loss: 0.2807 - val_accuracy: 0.9583\n",
      "Epoch 182/500\n",
      "6/6 [==============================] - 0s 4ms/step - loss: 0.3520 - accuracy: 0.8988 - val_loss: 0.2794 - val_accuracy: 0.9583\n",
      "Epoch 183/500\n",
      "6/6 [==============================] - 0s 5ms/step - loss: 0.3739 - accuracy: 0.9048 - val_loss: 0.2791 - val_accuracy: 0.9583\n",
      "Epoch 184/500\n",
      "6/6 [==============================] - 0s 4ms/step - loss: 0.3152 - accuracy: 0.9226 - val_loss: 0.2781 - val_accuracy: 0.9583\n",
      "Epoch 185/500\n",
      "6/6 [==============================] - 0s 5ms/step - loss: 0.3262 - accuracy: 0.9107 - val_loss: 0.2762 - val_accuracy: 0.9583\n",
      "Epoch 186/500\n",
      "6/6 [==============================] - 0s 5ms/step - loss: 0.3253 - accuracy: 0.8929 - val_loss: 0.2745 - val_accuracy: 0.9583\n",
      "Epoch 187/500\n",
      "6/6 [==============================] - 0s 5ms/step - loss: 0.3153 - accuracy: 0.9464 - val_loss: 0.2739 - val_accuracy: 0.9583\n",
      "Epoch 188/500\n",
      "6/6 [==============================] - 0s 5ms/step - loss: 0.3473 - accuracy: 0.9286 - val_loss: 0.2733 - val_accuracy: 0.9583\n",
      "Epoch 189/500\n",
      "6/6 [==============================] - 0s 4ms/step - loss: 0.3473 - accuracy: 0.8988 - val_loss: 0.2725 - val_accuracy: 0.9583\n",
      "Epoch 190/500\n",
      "6/6 [==============================] - 0s 6ms/step - loss: 0.3799 - accuracy: 0.9048 - val_loss: 0.2705 - val_accuracy: 0.9583\n",
      "Epoch 191/500\n",
      "6/6 [==============================] - 0s 5ms/step - loss: 0.3532 - accuracy: 0.9048 - val_loss: 0.2707 - val_accuracy: 0.9583\n",
      "Epoch 192/500\n",
      "6/6 [==============================] - 0s 4ms/step - loss: 0.3791 - accuracy: 0.9048 - val_loss: 0.2700 - val_accuracy: 0.9583\n",
      "Epoch 193/500\n",
      "6/6 [==============================] - 0s 5ms/step - loss: 0.2949 - accuracy: 0.9464 - val_loss: 0.2691 - val_accuracy: 0.9583\n",
      "Epoch 194/500\n",
      "6/6 [==============================] - 0s 4ms/step - loss: 0.3372 - accuracy: 0.9167 - val_loss: 0.2678 - val_accuracy: 0.9583\n",
      "Epoch 195/500\n",
      "6/6 [==============================] - 0s 5ms/step - loss: 0.3146 - accuracy: 0.8988 - val_loss: 0.2666 - val_accuracy: 0.9583\n",
      "Epoch 196/500\n",
      "6/6 [==============================] - 0s 5ms/step - loss: 0.3247 - accuracy: 0.9107 - val_loss: 0.2652 - val_accuracy: 0.9583\n",
      "Epoch 197/500\n",
      "6/6 [==============================] - 0s 5ms/step - loss: 0.3362 - accuracy: 0.9167 - val_loss: 0.2649 - val_accuracy: 0.9583\n",
      "Epoch 198/500\n",
      "6/6 [==============================] - 0s 6ms/step - loss: 0.3197 - accuracy: 0.9286 - val_loss: 0.2634 - val_accuracy: 0.9583\n",
      "Epoch 199/500\n",
      "6/6 [==============================] - 0s 5ms/step - loss: 0.2829 - accuracy: 0.9464 - val_loss: 0.2614 - val_accuracy: 0.9583\n",
      "Epoch 200/500\n",
      "6/6 [==============================] - 0s 5ms/step - loss: 0.3397 - accuracy: 0.9048 - val_loss: 0.2609 - val_accuracy: 0.9722\n",
      "Epoch 201/500\n",
      "6/6 [==============================] - 0s 5ms/step - loss: 0.3284 - accuracy: 0.8988 - val_loss: 0.2615 - val_accuracy: 0.9722\n",
      "Epoch 202/500\n",
      "6/6 [==============================] - 0s 4ms/step - loss: 0.3313 - accuracy: 0.8929 - val_loss: 0.2612 - val_accuracy: 0.9583\n",
      "Epoch 203/500\n",
      "6/6 [==============================] - 0s 4ms/step - loss: 0.3453 - accuracy: 0.8869 - val_loss: 0.2604 - val_accuracy: 0.9583\n",
      "Epoch 204/500\n",
      "6/6 [==============================] - 0s 4ms/step - loss: 0.3051 - accuracy: 0.9226 - val_loss: 0.2586 - val_accuracy: 0.9583\n",
      "Epoch 205/500\n",
      "6/6 [==============================] - 0s 6ms/step - loss: 0.3058 - accuracy: 0.9107 - val_loss: 0.2574 - val_accuracy: 0.9583\n",
      "Epoch 206/500\n",
      "6/6 [==============================] - 0s 5ms/step - loss: 0.2976 - accuracy: 0.9167 - val_loss: 0.2570 - val_accuracy: 0.9583\n",
      "Epoch 207/500\n",
      "6/6 [==============================] - 0s 4ms/step - loss: 0.3169 - accuracy: 0.8690 - val_loss: 0.2564 - val_accuracy: 0.9583\n",
      "Epoch 208/500\n",
      "6/6 [==============================] - 0s 4ms/step - loss: 0.3253 - accuracy: 0.9107 - val_loss: 0.2557 - val_accuracy: 0.9583\n",
      "Epoch 209/500\n",
      "6/6 [==============================] - 0s 4ms/step - loss: 0.2946 - accuracy: 0.9048 - val_loss: 0.2548 - val_accuracy: 0.9583\n",
      "Epoch 210/500\n",
      "6/6 [==============================] - 0s 4ms/step - loss: 0.3271 - accuracy: 0.9107 - val_loss: 0.2540 - val_accuracy: 0.9583\n",
      "Epoch 211/500\n",
      "6/6 [==============================] - 0s 4ms/step - loss: 0.3699 - accuracy: 0.8869 - val_loss: 0.2541 - val_accuracy: 0.9583\n",
      "Epoch 212/500\n",
      "6/6 [==============================] - 0s 4ms/step - loss: 0.3562 - accuracy: 0.8750 - val_loss: 0.2545 - val_accuracy: 0.9583\n",
      "Epoch 213/500\n",
      "6/6 [==============================] - 0s 4ms/step - loss: 0.2719 - accuracy: 0.9345 - val_loss: 0.2546 - val_accuracy: 0.9583\n",
      "Epoch 214/500\n",
      "6/6 [==============================] - 0s 5ms/step - loss: 0.2994 - accuracy: 0.9167 - val_loss: 0.2537 - val_accuracy: 0.9583\n",
      "Epoch 215/500\n",
      "6/6 [==============================] - 0s 4ms/step - loss: 0.3066 - accuracy: 0.9226 - val_loss: 0.2526 - val_accuracy: 0.9583\n",
      "Epoch 216/500\n",
      "6/6 [==============================] - 0s 4ms/step - loss: 0.2862 - accuracy: 0.9345 - val_loss: 0.2516 - val_accuracy: 0.9583\n",
      "Epoch 217/500\n",
      "6/6 [==============================] - 0s 4ms/step - loss: 0.2951 - accuracy: 0.9345 - val_loss: 0.2513 - val_accuracy: 0.9583\n",
      "Epoch 218/500\n",
      "6/6 [==============================] - 0s 5ms/step - loss: 0.2847 - accuracy: 0.9464 - val_loss: 0.2507 - val_accuracy: 0.9583\n",
      "Epoch 219/500\n",
      "6/6 [==============================] - 0s 4ms/step - loss: 0.2716 - accuracy: 0.9345 - val_loss: 0.2510 - val_accuracy: 0.9583\n",
      "Epoch 220/500\n",
      "6/6 [==============================] - 0s 4ms/step - loss: 0.3210 - accuracy: 0.9107 - val_loss: 0.2504 - val_accuracy: 0.9583\n",
      "Epoch 221/500\n",
      "6/6 [==============================] - 0s 4ms/step - loss: 0.3060 - accuracy: 0.8929 - val_loss: 0.2491 - val_accuracy: 0.9583\n",
      "Epoch 222/500\n",
      "6/6 [==============================] - 0s 5ms/step - loss: 0.2822 - accuracy: 0.9405 - val_loss: 0.2487 - val_accuracy: 0.9583\n",
      "Epoch 223/500\n",
      "6/6 [==============================] - 0s 6ms/step - loss: 0.2943 - accuracy: 0.9167 - val_loss: 0.2487 - val_accuracy: 0.9583\n",
      "Epoch 224/500\n",
      "6/6 [==============================] - 0s 5ms/step - loss: 0.2557 - accuracy: 0.9107 - val_loss: 0.2488 - val_accuracy: 0.9583\n",
      "Epoch 225/500\n",
      "6/6 [==============================] - 0s 5ms/step - loss: 0.3328 - accuracy: 0.9167 - val_loss: 0.2486 - val_accuracy: 0.9583\n",
      "Epoch 226/500\n",
      "6/6 [==============================] - 0s 5ms/step - loss: 0.2644 - accuracy: 0.9405 - val_loss: 0.2483 - val_accuracy: 0.9583\n",
      "Epoch 227/500\n",
      "6/6 [==============================] - 0s 5ms/step - loss: 0.2642 - accuracy: 0.9345 - val_loss: 0.2472 - val_accuracy: 0.9583\n",
      "Epoch 228/500\n",
      "6/6 [==============================] - 0s 5ms/step - loss: 0.2603 - accuracy: 0.9702 - val_loss: 0.2457 - val_accuracy: 0.9583\n",
      "Epoch 229/500\n",
      "6/6 [==============================] - 0s 5ms/step - loss: 0.2726 - accuracy: 0.9405 - val_loss: 0.2452 - val_accuracy: 0.9583\n",
      "Epoch 230/500\n",
      "6/6 [==============================] - 0s 7ms/step - loss: 0.2922 - accuracy: 0.9167 - val_loss: 0.2453 - val_accuracy: 0.9722\n",
      "Epoch 231/500\n",
      "6/6 [==============================] - 0s 5ms/step - loss: 0.2841 - accuracy: 0.9464 - val_loss: 0.2469 - val_accuracy: 0.9722\n"
     ]
    },
    {
     "data": {
      "text/plain": [
       "<tensorflow.python.keras.callbacks.History at 0x237cad3ebb0>"
      ]
     },
     "execution_count": 137,
     "metadata": {},
     "output_type": "execute_result"
    }
   ],
   "source": [
    "model.compile(optimizer=\"adam\",\n",
    "              loss=\"sparse_categorical_crossentropy\", \n",
    "              metrics=[\"accuracy\"])\n",
    "\n",
    "model.fit(X_train, y_train, \n",
    "          batch_size=30, \n",
    "          epochs=500, \n",
    "           callbacks=callback_list,\n",
    "          validation_data=(X_test, y_test))"
   ]
  },
  {
   "cell_type": "code",
   "execution_count": 138,
   "metadata": {},
   "outputs": [
    {
     "data": {
      "text/plain": [
       "<AxesSubplot:>"
      ]
     },
     "execution_count": 138,
     "metadata": {},
     "output_type": "execute_result"
    },
    {
     "data": {
      "image/png": "[encoded data removed]",
      "text/plain": [
       "<Figure size 864x432 with 1 Axes>"
      ]
     },
     "metadata": {},
     "output_type": "display_data"
    }
   ],
   "source": [
    "sns.set_theme()\n",
    "results = pd.DataFrame(model.history.history)\n",
    "results.plot(figsize=(12,6))"
   ]
  },
  {
   "cell_type": "code",
   "execution_count": 142,
   "metadata": {},
   "outputs": [
    {
     "name": "stdout",
     "output_type": "stream",
     "text": [
      "    0  1   2   3  4   5\n",
      "0  13  0   0   0  0   0\n",
      "1   1  7   0   0  0   0\n",
      "2   0  0  12   0  0   0\n",
      "3   0  0   2  15  0   0\n",
      "4   0  0   0   0  7   0\n",
      "5   0  0   0   0  0  15\n",
      "\n",
      "\n",
      "              precision    recall  f1-score   support\n",
      "\n",
      "           0       0.93      1.00      0.96        13\n",
      "           1       1.00      0.88      0.93         8\n",
      "           2       0.86      1.00      0.92        12\n",
      "           3       1.00      0.88      0.94        17\n",
      "           4       1.00      1.00      1.00         7\n",
      "           5       1.00      1.00      1.00        15\n",
      "\n",
      "    accuracy                           0.96        72\n",
      "   macro avg       0.96      0.96      0.96        72\n",
      "weighted avg       0.96      0.96      0.96        72\n",
      "\n"
     ]
    }
   ],
   "source": [
    "predictions = np.argmax(model.predict(X_test), axis=-1)\n",
    "\n",
    "print(pd.DataFrame(confusion_matrix(y_test, predictions)))\n",
    "print(\"\\n\")\n",
    "print(classification_report(y_test, predictions))"
   ]
  },
  {
   "cell_type": "code",
   "execution_count": null,
   "metadata": {},
   "outputs": [],
   "source": []
  },
  {
   "cell_type": "code",
   "execution_count": null,
   "metadata": {},
   "outputs": [],
   "source": []
  },
  {
   "cell_type": "code",
   "execution_count": null,
   "metadata": {},
   "outputs": [],
   "source": []
  },
  {
   "cell_type": "code",
   "execution_count": null,
   "metadata": {},
   "outputs": [],
   "source": []
  },
  {
   "cell_type": "code",
   "execution_count": null,
   "metadata": {},
   "outputs": [],
   "source": []
  },
  {
   "cell_type": "code",
   "execution_count": null,
   "metadata": {},
   "outputs": [],
   "source": []
  }
 ],
 "metadata": {
  "kernelspec": {
   "display_name": "Python 3",
   "language": "python",
   "name": "python3"
  },
  "language_info": {
   "codemirror_mode": {
    "name": "ipython",
    "version": 3
   },
   "file_extension": ".py",
   "mimetype": "text/x-python",
   "name": "python",
   "nbconvert_exporter": "python",
   "pygments_lexer": "ipython3",
   "version": "3.8.5"
  }
 },
 "nbformat": 4,
 "nbformat_minor": 4
}
